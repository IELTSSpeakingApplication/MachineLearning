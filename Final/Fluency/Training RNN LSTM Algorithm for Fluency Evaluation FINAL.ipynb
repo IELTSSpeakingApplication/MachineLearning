{
  "nbformat": 4,
  "nbformat_minor": 0,
  "metadata": {
    "colab": {
      "provenance": [],
      "machine_shape": "hm",
      "gpuType": "V100",
      "collapsed_sections": [
        "jboTnlNbS3So",
        "22nIiGRVS5G5",
        "7UiJKHGVS7F_",
        "MwIvs7WfqpTJ",
        "2JUvLMTbinha",
        "PJ_kkZ0Ci2S6",
        "IdYTUvQkjBaw",
        "Ea1TePATS8zI",
        "cVgqn56CkyMb",
        "ClgicWIKllLv",
        "oEjFTXUSng1M",
        "V3hhvJtIoFLj",
        "P952Xvr0oVQe",
        "CLxjmVavotk4",
        "-vHfWCb5oyU9",
        "amwM8XC8o0f9",
        "OJP7irfzS-9G",
        "wapLkmpvo4cj",
        "Pw4nbhEZpLyE",
        "jI3Y3qIupMSG",
        "kiaICR4YpMtY",
        "xPRObFZcpNEX",
        "HcM43yd3pNgu",
        "S6nHWM2BpN5I",
        "sSZXtifSpOPA",
        "MJrrldMRpOiG",
        "QZSj9aMATBDg",
        "27TMIKWdp6ec",
        "3dumVvayp60e",
        "ZqsygkGWqDVf",
        "Jyy9mBysqDwr",
        "O2FqpXo4qEFw",
        "bLKZqXQ9TH2T"
      ]
    },
    "kernelspec": {
      "name": "python3",
      "display_name": "Python 3"
    },
    "language_info": {
      "name": "python"
    },
    "accelerator": "GPU"
  },
  "cells": [
    {
      "cell_type": "markdown",
      "source": [
        "<div class=\"markdown-google-sans\">\n",
        "\n",
        "# **Training RNN-LSTM Algorithm for Fluency Evaluation 🤗**\n",
        "\n",
        "Training RNN-LSTM Algorithm for Fluency Evaluation with CEFR Fluency Audio Dataset.\n",
        "\n",
        "</div>\n"
      ],
      "metadata": {
        "id": "kW4t_UwtSmFi"
      }
    },
    {
      "cell_type": "markdown",
      "source": [
        "<div class=\"markdown-google-sans\">\n",
        "\n",
        "## **Information 😲**\n",
        "</div>"
      ],
      "metadata": {
        "id": "jboTnlNbS3So"
      }
    },
    {
      "cell_type": "markdown",
      "source": [
        "**Title:** Training RNN-LSTM Algorithm for Fluency Evaluation<br>\n",
        "**Description:** Training RNN-LSTM Algorithm for Fluency Evaluation with CEFR Fluency Audio Dataset<br>\n",
        "**Code Writer:** Hafid Ikhsan Arifin<br>\n",
        "**Date created:** 2023/07/11<br>\n",
        "**Last modified:** 2023/07/14 (5:00 PM)<br> <!-- Edit Here -->\n",
        "**Version:** 6.0.0<br> <!-- Edit Here -->"
      ],
      "metadata": {
        "id": "ssK23sBkTMul"
      }
    },
    {
      "cell_type": "markdown",
      "source": [
        "**Final Result:**\n",
        "\n",
        "<!-- Edit Here -->\n",
        "```bash\n",
        "LOSS = 0.036\n",
        "ACCURACY = 0.995\n",
        "RECALL = 0.996\n",
        "PRECISION = 0.996\n",
        "F1 SCORE = 0.996\n",
        "```"
      ],
      "metadata": {
        "id": "qX_t6YdA0IfZ"
      }
    },
    {
      "cell_type": "markdown",
      "source": [
        "**Testing information:**\n",
        "\n",
        "*   **Dataset Type**\n",
        "\n",
        "| Version | Dataset Type           | Loss | Accuracy | Recall | Precision | F1 Score | Best |\n",
        "|---------| ---------------------- | ---- | ---------- | ------ | --------- |  ----- | ---- |\n",
        "| 1       | Unbalance              | 0.112 | 0.980 | 0.984 | 0.977 | 0.980 |    |\n",
        "| 2       | Undersampling          | 0.181 | 0.971 | 0.974 | 0.972 | 0.972 |    |\n",
        "| 3       | Oversampling Copy      | 0.089 | 0.988 | 0.989 | 0.989 | 0.989 |    |\n",
        "| 4       | Oversampling Augmented | 0.034 | 0.995 | 0.996 | 0.996 | 0.996 |  ✅  |\n",
        "\n",
        "*   **Data Partition**\n",
        "\n",
        "| Version | Data Partition         | Loss | Accuracy | Recall | Precision | F1 Score | Best |\n",
        "|---------| ---------------------- | ---- | ---------- | ------ | --------- |  ----- | ---- |\n",
        "| 1       | 50 : 25 : 25 | 0.055 | 0.988 | 0.989 | 0.989 | 0.989 |    |\n",
        "| 2       | 60 : 20 : 20 | 0.045 | 0.993 | 0.994 | 0.993 | 0.993 |    |\n",
        "| 3       | 70 : 15 : 15 | 0.029 | 0.995 | 0.996 | 0.996 | 0.996 |    |\n",
        "| 4       | 80 : 10 : 10 | 0.004 | 0.997 | 0.998 | 0.998 | 0.998 |  ✅  |\n",
        "\n",
        "*   **Learning Rate**\n",
        "\n",
        "| Version | Learning Rate | Loss | Accuracy | Recall | Precision | F1 Score | Best |\n",
        "|---------| ------------- | ---- | ---------- | ------ | --------- |  ----- | ---- |\n",
        "| 1       | 0.1    | 1.802 | 0.166 | 0.028 | 0.167 | 0.048 |    |\n",
        "| 2       | 0.01   | 0.830 | 0.682 | 0.823 | 0.682 | 0.694 |    |\n",
        "| 3       | 0.001  | 0.068 | 0.989 | 0.989 | 0.989 | 0.989 |    |\n",
        "| 4       | 0.0001 | 0.004 | 1.000 | 1.000 | 1.000 | 1.000 |  ✅  |\n",
        "\n",
        "*   **Batch Size**\n",
        "\n",
        "| Version | Batch Size | Loss | Accuracy | Recall | Precision | F1 Score | Best |\n",
        "|---------| ------------- | ---- | ---------- | ------ | --------- |  ----- | ---- |\n",
        "| 1       | 16  | 0.056 | 0.995 | 0.996 | 0.996 | 0.996 |    |\n",
        "| 2       | 32  | 0.030 | 0.997 | 0.998 | 0.998 | 0.998 |  ✅  |\n",
        "| 3       | 64  | 0.016 | 0.995 | 0.996 | 0.996 | 0.996 |    |\n",
        "| 4       | 128 | 0.030 | 0.991 | 0.991 | 0.991 | 0.991 |    |\n",
        "\n",
        "*   **Epoch**\n",
        "\n",
        "| Version | Epoch | Loss | Accuracy | Recall | Precision | F1 Score | Best |\n",
        "|---------| ----- | ---- | ---------- | ------ | --------- |  ----- | ---- |\n",
        "| 1       | 50  | 0.031 | 0.991 | 0.991 | 0.991 | 0.991 |    |\n",
        "| 2       | 100 | 0.025 | 0.993 | 0.993 | 0.993 | 0.993 |    |\n",
        "| 3       | 150 | 0.019 | 0.997 | 0.998 | 0.998 | 0.998 |  ✅  |\n",
        "| 4       | 200 | 0.034 | 0.995 | 0.996 | 0.996 | 0.996 |    |"
      ],
      "metadata": {
        "id": "yNk7flrTVYjv"
      }
    },
    {
      "cell_type": "markdown",
      "source": [
        "**Final Hyperparameter information:**\n",
        "\n",
        "<!-- Edit Here -->\n",
        "```bash\n",
        "DATA_TYPE = Oversampling Augmented\n",
        "TEST_SIZE = 0.2\n",
        "VAL_SIZE = 0.5\n",
        "BATCH_SIZE = 32\n",
        "LEARNING_RATE = 1e-4\n",
        "NUM_EPOCHS = 150\n",
        "```"
      ],
      "metadata": {
        "id": "2yjje90zWXe_"
      }
    },
    {
      "cell_type": "markdown",
      "source": [
        "**Notebook:**<br>\n",
        "Best Version: [![Open In Colab](https://colab.research.google.com/assets/colab-badge.svg)](https://colab.research.google.com/drive/19c7gixv8B7LzD_MkomXfkLWZU2H9IYnS?usp=sharing)<br>\n",
        "Full Version: [![GitHub watchers](https://img.shields.io/github/watchers/Naereen/StrapDown.js.svg?style=social&label=Watch&maxAge=2592000)](https://github.com/IELTSSpeakingApplication/MachineLearning)"
      ],
      "metadata": {
        "id": "C-qAsYubWaVj"
      }
    },
    {
      "cell_type": "markdown",
      "source": [
        "**Model:**<br>\n",
        "[![Google Drive](https://img.shields.io/badge/Google%20Drive-4285F4?style=for-the-badge&logo=googledrive&logoColor=white)](https://drive.google.com/drive/folders/1XuwIDoLwHHeFDLhkRtikwIHsEtOSSHkI?usp=drive_link)"
      ],
      "metadata": {
        "id": "zobsmN02W811"
      }
    },
    {
      "cell_type": "markdown",
      "source": [
        "<div class=\"markdown-google-sans\">\n",
        "\n",
        "## **Introduction 🤔**\n",
        "</div>"
      ],
      "metadata": {
        "id": "22nIiGRVS5G5"
      }
    },
    {
      "cell_type": "markdown",
      "source": [
        "![Audio Classification](https://storage.googleapis.com/ielts-capstone/image/Audio%20Classification%20High.png)\n",
        "\n",
        "Audio classification is one type of activity which can determine the class label output from the audio data. This task requires audio data as input and will output class labels from the input data obtained. This task is usually used in such as identifying speaker intent, language classification, and even animal species based on their voice. Currently activities or tasks are made easier by a machine."
      ],
      "metadata": {
        "id": "AIIUfoltbMkp"
      }
    },
    {
      "cell_type": "markdown",
      "source": [
        "Currently, the popular Deep Learning algorithm for audio classification is RNN-LSTM. LSTM is a type of RNN with higher memory power to remember the outputs of each node for a more extended period to produce the outcome for the next node efficiently. LSTM networks combat the RNN's vanishing gradients or long-term dependence issue. To build RNN-LSTM model I use [Keras Model API](https://keras.io/about/) library from TensorFlow."
      ],
      "metadata": {
        "id": "d5GBy4sabWsI"
      }
    },
    {
      "cell_type": "markdown",
      "source": [
        "In this notebook, I will shows how to train [Keras RNN-LSTM](https://keras.io/api/layers/recurrent_layers/lstm/) models for english audio fluency classification. We will do audio classification using my [custom](https://drive.google.com/file/d/1rFDDyk1a4SRIm6CK3f7-kk6JTza5V2pN/view?usp=sharing) Dataset."
      ],
      "metadata": {
        "id": "iYsQaGn8dAq0"
      }
    },
    {
      "cell_type": "markdown",
      "source": [
        "I use my own [CEFR Fluency Dataset](https://drive.google.com/drive/folders/1xXj1cSRyQ5-4eNS16tK0Vauai_nkLoFL?usp=sharing) which consists of 2807 audio files obtained from the YouTube audio of IELTS test participants. Audio has been categorized into 6 [CEFR](https://www.cambridgeenglish.org/exams-and-tests/cefr/) classes:\n",
        "\n",
        "*   `A1` (0 - 3 IELTS Band)\n",
        "*   `A2` (3.5 - 4 IELTS Band)\n",
        "*   `B1` (4.5 - 5 IELTS Band)\n",
        "*   `B2` (5.5 - 6.5 IELTS Band)\n",
        "*   `C1` (7 - 8 IELTS Band)\n",
        "*   `C2` (8.5 - 9 IELTS Band)\n",
        "\n",
        "After doing dataset type testing, I will use the [`Oversampling Augmented`](https://drive.google.com/drive/folders/155kCFYm-V4m96zL67KidGUbKzk-C8PPR?usp=sharing) dataset for another testing because I have best result compared to other dataset type."
      ],
      "metadata": {
        "id": "6u9UvxvAd1ew"
      }
    },
    {
      "cell_type": "markdown",
      "source": [
        "The training process that is carried out is the same as the training process for deep learning models in general. The layers to build the classification model is 3 LSTM, 3 Dropout, and 1 Dense layer for classification."
      ],
      "metadata": {
        "id": "68lISrhQe6n8"
      }
    },
    {
      "cell_type": "markdown",
      "source": [
        "```bash\n",
        "|--LSTM (256)\n",
        "|--Dropout (0.2)\n",
        "|--LSTM (128)\n",
        "|--Dropout (0.2)\n",
        "|--LSTM (64)\n",
        "|--Dropout (0.2)\n",
        "|--Dense (6)\n",
        "```"
      ],
      "metadata": {
        "id": "V1pWq4jqe_pa"
      }
    },
    {
      "cell_type": "markdown",
      "source": [
        "Following are the configuration details of the RNN-LSTM model."
      ],
      "metadata": {
        "id": "xYIqhNZJfljM"
      }
    },
    {
      "cell_type": "markdown",
      "source": [
        "<!-- Edit Here -->\n",
        "```bash\n",
        "DATA_TYPE = Oversampling Augmented\n",
        "TEST_SIZE = 0.2\n",
        "VAL_SIZE = 0.5\n",
        "LEARNING_RATE = 1e-4\n",
        "BATCH_SIZE = 32\n",
        "NUM_EPOCHS = 150\n",
        "LOSS_FUNCTION = \"categorical_crossentropy\"\n",
        "OPTIMIZER = \"rmsprop\"\n",
        "```"
      ],
      "metadata": {
        "id": "c1cjq1xFfoKo"
      }
    },
    {
      "cell_type": "markdown",
      "source": [
        "To evaluate the model, I decided to use Loss, Accuracy, F1 Score, Precision, and Recall."
      ],
      "metadata": {
        "id": "EQjc2ABAhSYb"
      }
    },
    {
      "cell_type": "markdown",
      "source": [
        "In this notebook there are several sections to train RNN-LSTM models for fluency evaluation classification.\n",
        "\n",
        "1.   Information 😲\n",
        "2.   Introduction 🤔\n",
        "3.   Preparation 🧐\n",
        "4.   Collect Dataset 😥\n",
        "5.   Preprocessing 😱\n",
        "6.   Training 🫣\n",
        "7.   Evaluation 🤯\n",
        "8.   Prediction 🥳\n",
        "9.   Reference 🫡\n",
        "\n",
        "Let's code 😋"
      ],
      "metadata": {
        "id": "mnJXTsKChWSP"
      }
    },
    {
      "cell_type": "markdown",
      "source": [
        "<div class=\"markdown-google-sans\">\n",
        "\n",
        "## **Preparation 🧐**\n",
        "</div>"
      ],
      "metadata": {
        "id": "7UiJKHGVS7F_"
      }
    },
    {
      "cell_type": "markdown",
      "source": [
        "<div class=\"markdown-google-sans\">\n",
        "\n",
        "### **Install Necessary Libraries ✅**\n",
        "</div>"
      ],
      "metadata": {
        "id": "MwIvs7WfqpTJ"
      }
    },
    {
      "cell_type": "markdown",
      "source": [
        "First, I will make sure all the necessary libraries installed."
      ],
      "metadata": {
        "id": "omkKjj9bqr9v"
      }
    },
    {
      "cell_type": "code",
      "source": [
        "# Install library\n",
        "%%capture\n",
        "!pip install scikit-plot"
      ],
      "metadata": {
        "id": "-XyjFHo9qpFf"
      },
      "execution_count": 1,
      "outputs": []
    },
    {
      "cell_type": "code",
      "source": [
        "#@title Check installed library\n",
        "import scikitplot\n",
        "\n",
        "try:\n",
        "    scikitplot_version = scikitplot.__version__\n",
        "    print(\"Libraries installed\")\n",
        "except:\n",
        "    print(\"Libraries not installed\")"
      ],
      "metadata": {
        "cellView": "form",
        "id": "Z2L82wlsq1vM",
        "colab": {
          "base_uri": "https://localhost:8080/"
        },
        "outputId": "8dc23675-f73c-4a2d-81b0-43b381b2113d"
      },
      "execution_count": 2,
      "outputs": [
        {
          "output_type": "stream",
          "name": "stdout",
          "text": [
            "Libraries installed\n"
          ]
        }
      ]
    },
    {
      "cell_type": "markdown",
      "source": [
        "<div class=\"markdown-google-sans\">\n",
        "\n",
        "### **Import Libraries ✅**\n",
        "</div>"
      ],
      "metadata": {
        "id": "2JUvLMTbinha"
      }
    },
    {
      "cell_type": "markdown",
      "source": [
        "Second, I will import all the necessary libraries."
      ],
      "metadata": {
        "id": "giZ_KuLMjDK9"
      }
    },
    {
      "cell_type": "code",
      "source": [
        "# Import library\n",
        "import os\n",
        "import time\n",
        "import keras\n",
        "import librosa\n",
        "import datetime\n",
        "import numpy as np\n",
        "import pandas as pd\n",
        "import seaborn as sns\n",
        "import tensorflow as tf\n",
        "import scikitplot as skplt\n",
        "from sklearn import metrics\n",
        "from google.colab import drive\n",
        "import matplotlib.pyplot as plt\n",
        "from keras.models import load_model\n",
        "from sklearn.model_selection import train_test_split"
      ],
      "metadata": {
        "id": "VAi279fGiq5m"
      },
      "execution_count": 3,
      "outputs": []
    },
    {
      "cell_type": "markdown",
      "source": [
        "<div class=\"markdown-google-sans\">\n",
        "\n",
        "### **Import Drive Folder ✅**\n",
        "</div>"
      ],
      "metadata": {
        "id": "PJ_kkZ0Ci2S6"
      }
    },
    {
      "cell_type": "markdown",
      "source": [
        "Next, I will import drive folder in my colab to save model."
      ],
      "metadata": {
        "id": "B972ikpAjG-1"
      }
    },
    {
      "cell_type": "code",
      "source": [
        "# Drive Access\n",
        "drive.mount(\"/content/drive\")"
      ],
      "metadata": {
        "id": "8zNG-WrJi5z4",
        "colab": {
          "base_uri": "https://localhost:8080/"
        },
        "outputId": "d8a97049-dd9e-45ae-948a-e0857b46c78b"
      },
      "execution_count": 4,
      "outputs": [
        {
          "output_type": "stream",
          "name": "stdout",
          "text": [
            "Mounted at /content/drive\n"
          ]
        }
      ]
    },
    {
      "cell_type": "markdown",
      "source": [
        "<div class=\"markdown-google-sans\">\n",
        "\n",
        "### **Define Global Parameters ✅**\n",
        "</div>"
      ],
      "metadata": {
        "id": "IdYTUvQkjBaw"
      }
    },
    {
      "cell_type": "markdown",
      "source": [
        "Last before train model, I will define all global parameters needed."
      ],
      "metadata": {
        "id": "H5uMFRoYjSQX"
      }
    },
    {
      "cell_type": "code",
      "source": [
        "# Define global variable\n",
        "DATASET = \"/content/drive/MyDrive/Final Project/Machine Learning/Fluency/Dataset/CEFR Fluency Dataset/Oversampling Augmented/dataset.csv\"\n",
        "\n",
        "TITLE = '\"Final RNN-LSTM CEFR Fluency Model\"'\n",
        "DESCRIPTION = '\"Training Final RNN-LSTM CEFR Fluency Model with Keras\"'\n",
        "MODEL_NAME = \"Final_RNN_LSTM_CEFR_Fluency_Model\"\n",
        "MODEL_SUMMARY = \"Summary_\" + MODEL_NAME + \".txt\"\n",
        "\n",
        "TEST_SIZE = 0.2\n",
        "VAL_SIZE = 0.5\n",
        "LEARNING_RATE = 1e-4\n",
        "BATCH_SIZE = 32\n",
        "NUM_EPOCHS = 150\n",
        "LOSS_FUNCTION = \"categorical_crossentropy\"\n",
        "\n",
        "COLAB_BASE_PATH = \"/content/\"\n",
        "DRIVE_TARGET_PATH = '''/content/drive/MyDrive/\"Final Project\"/\"Machine Learning\"/Fluency/Model/Testing/\"FINAL\"'''\n",
        "\n",
        "PNG = \".png\"\n",
        "\n",
        "MODEL_EVALUATION = '\"Model Evaluation\"'\n",
        "LOSS_EVALUATION = '\"Loss Evaluation\"'\n",
        "ACCURACY_EVALUATION = '\"Accuracy Evaluation\"'\n",
        "CM_EVALUATION = '\"Confusion Matrix Evaluation\"'\n",
        "CR_EVALUATION = '\"Classification Report Evaluation\"'\n",
        "TRAINING_TIME = '\"Training Time\"'\n",
        "\n",
        "MODEL_EVALUATION_PNG = \"Model Evaluation.png\"\n",
        "LOSS_EVALUATION_PNG = \"Loss Evaluation.png\"\n",
        "ACCURACY_EVALUATION_PNG = \"Accuracy Evaluation.png\"\n",
        "CM_EVALUATION_PNG = \"Confusion Matrix Evaluation.png\"\n",
        "CR_EVALUATION_PNG = \"Classification Report Evaluation.png\"\n",
        "TRAINING_TIME_PNG = \"Training Time.png\"\n",
        "\n",
        "H5_MODEL_NAME = \"Final_RNN_LSTM_CEFR_Fluency_Model.h5\"\n",
        "FOLDER_MODEL_NAME = \"Final_RNN_LSTM_CEFR_Fluency_Model\"\n",
        "\n",
        "TENSORBOARD_LOG = \"logs-training\""
      ],
      "metadata": {
        "id": "i8LEgCK5jWnU"
      },
      "execution_count": 5,
      "outputs": []
    },
    {
      "cell_type": "code",
      "source": [
        "# Make pandas dataframe big\n",
        "pd.set_option(\"display.max_colwidth\", None)"
      ],
      "metadata": {
        "id": "A6NwOoIClbcB"
      },
      "execution_count": 6,
      "outputs": []
    },
    {
      "cell_type": "markdown",
      "source": [
        "<div class=\"markdown-google-sans\">\n",
        "\n",
        "## **Collect Dataset 😥**\n",
        "</div>"
      ],
      "metadata": {
        "id": "Ea1TePATS8zI"
      }
    },
    {
      "cell_type": "markdown",
      "source": [
        "The first stage to train RNN-LSTM models for fluency evaluation classification is collect dataset."
      ],
      "metadata": {
        "id": "P4RxMQpuksJh"
      }
    },
    {
      "cell_type": "markdown",
      "source": [
        "<div class=\"markdown-google-sans\">\n",
        "\n",
        "### **Load dataset Dataset ✅**\n",
        "</div>"
      ],
      "metadata": {
        "id": "cVgqn56CkyMb"
      }
    },
    {
      "cell_type": "markdown",
      "source": [
        "Because I already have process the dataset before in this [notebook](https://colab.research.google.com/drive/1t0z7PoJ5Rst0qXV6oYtTH8pb-4LsWG7O?usp=sharing). So in this section just 1 step that is load the CSV file that contain dataset information."
      ],
      "metadata": {
        "id": "BlZ_frDgk31a"
      }
    },
    {
      "cell_type": "code",
      "source": [
        "# Load dataset\n",
        "dataset = pd.read_csv(DATASET)"
      ],
      "metadata": {
        "id": "7IBVhIOwIVZb"
      },
      "execution_count": 7,
      "outputs": []
    },
    {
      "cell_type": "code",
      "source": [
        "# Display dataset\n",
        "dataset.head()"
      ],
      "metadata": {
        "id": "PciIz4oaJMQS",
        "colab": {
          "base_uri": "https://localhost:8080/",
          "height": 595
        },
        "outputId": "18559908-701e-42a8-9ea7-46e012b96949"
      },
      "execution_count": 8,
      "outputs": [
        {
          "output_type": "execute_result",
          "data": {
            "text/plain": [
              "   Unnamed: 0          0           1          2          3          4  \\\n",
              "0         559 -397.22418  141.324280 -24.572893  40.727090   6.138770   \n",
              "1         562 -424.25787  135.763240  13.817374  34.567535  19.398777   \n",
              "2         385 -278.59366   16.817892  11.007432   7.860280   3.866176   \n",
              "3         524 -348.40628  137.824970  34.165768  19.185066  10.984100   \n",
              "4         154 -488.42750  106.950850  24.272425  20.567575   5.685808   \n",
              "\n",
              "           5         6          7         8  ...        26        27  \\\n",
              "0 -16.976065 -3.223198  -5.991923  5.064151  ... -4.874385 -2.918733   \n",
              "1   5.660375 -3.774367  -1.517691 -4.040669  ... -6.839155  0.177551   \n",
              "2  -0.591760 -1.760511  -1.519152 -2.150009  ... -1.701624 -1.685636   \n",
              "3  12.235502 -0.003394   4.112858  6.779053  ...  1.769621  0.061544   \n",
              "4  12.832743  5.906810  11.721909  4.346038  ... -1.841687  2.297661   \n",
              "\n",
              "         28        29        30        31        32  33  \\\n",
              "0 -5.344379 -2.650436  0.022700  1.344539  0.058135   0   \n",
              "1 -3.532260 -1.821146  0.013425  1.146517  0.037167   0   \n",
              "2 -1.760334 -1.464489  0.010018  0.945067  0.403933   0   \n",
              "3 -1.078849  2.101225  0.058572  1.238517  0.027987   0   \n",
              "4 -1.759773  0.854368  0.002649  1.017983  0.053574   0   \n",
              "\n",
              "                                                                                                              34  \\\n",
              "0  dataset/A1/IELTS Speaking Band 2.5 - Funny Speaking Test ｜ Behind The Scenes [eXOu4MSYJyM]3n03to3n11-TRIM.mp3   \n",
              "1                                       dataset/A1/IELTS Speaking Test Band 3.0 [OUXxohR7SmA]4n17to4n26-TRIM.mp3   \n",
              "2                         dataset/A1/IELTS Speaking Band 3 Sample with feedback [Jkp8eURNX3Q]6n57to7n05-TRIM.mp3   \n",
              "3                                dataset/A1/IELTS Speaking Test Band Score 2.5 [aRWPgieBlOc]9n58to10n07-TRIM.mp3   \n",
              "4                           dataset/A1/IELTS Speaking test band score 2.5, 2022 [7vzC-qMb0jQ]9:24to9:32-TRIM.mp3   \n",
              "\n",
              "   isError  \n",
              "0        0  \n",
              "1        0  \n",
              "2        0  \n",
              "3        0  \n",
              "4        0  \n",
              "\n",
              "[5 rows x 37 columns]"
            ],
            "text/html": [
              "\n",
              "\n",
              "  <div id=\"df-c0843d43-a907-41ef-bf7a-e58cbd482473\">\n",
              "    <div class=\"colab-df-container\">\n",
              "      <div>\n",
              "<style scoped>\n",
              "    .dataframe tbody tr th:only-of-type {\n",
              "        vertical-align: middle;\n",
              "    }\n",
              "\n",
              "    .dataframe tbody tr th {\n",
              "        vertical-align: top;\n",
              "    }\n",
              "\n",
              "    .dataframe thead th {\n",
              "        text-align: right;\n",
              "    }\n",
              "</style>\n",
              "<table border=\"1\" class=\"dataframe\">\n",
              "  <thead>\n",
              "    <tr style=\"text-align: right;\">\n",
              "      <th></th>\n",
              "      <th>Unnamed: 0</th>\n",
              "      <th>0</th>\n",
              "      <th>1</th>\n",
              "      <th>2</th>\n",
              "      <th>3</th>\n",
              "      <th>4</th>\n",
              "      <th>5</th>\n",
              "      <th>6</th>\n",
              "      <th>7</th>\n",
              "      <th>8</th>\n",
              "      <th>...</th>\n",
              "      <th>26</th>\n",
              "      <th>27</th>\n",
              "      <th>28</th>\n",
              "      <th>29</th>\n",
              "      <th>30</th>\n",
              "      <th>31</th>\n",
              "      <th>32</th>\n",
              "      <th>33</th>\n",
              "      <th>34</th>\n",
              "      <th>isError</th>\n",
              "    </tr>\n",
              "  </thead>\n",
              "  <tbody>\n",
              "    <tr>\n",
              "      <th>0</th>\n",
              "      <td>559</td>\n",
              "      <td>-397.22418</td>\n",
              "      <td>141.324280</td>\n",
              "      <td>-24.572893</td>\n",
              "      <td>40.727090</td>\n",
              "      <td>6.138770</td>\n",
              "      <td>-16.976065</td>\n",
              "      <td>-3.223198</td>\n",
              "      <td>-5.991923</td>\n",
              "      <td>5.064151</td>\n",
              "      <td>...</td>\n",
              "      <td>-4.874385</td>\n",
              "      <td>-2.918733</td>\n",
              "      <td>-5.344379</td>\n",
              "      <td>-2.650436</td>\n",
              "      <td>0.022700</td>\n",
              "      <td>1.344539</td>\n",
              "      <td>0.058135</td>\n",
              "      <td>0</td>\n",
              "      <td>dataset/A1/IELTS Speaking Band 2.5 - Funny Speaking Test ｜ Behind The Scenes [eXOu4MSYJyM]3n03to3n11-TRIM.mp3</td>\n",
              "      <td>0</td>\n",
              "    </tr>\n",
              "    <tr>\n",
              "      <th>1</th>\n",
              "      <td>562</td>\n",
              "      <td>-424.25787</td>\n",
              "      <td>135.763240</td>\n",
              "      <td>13.817374</td>\n",
              "      <td>34.567535</td>\n",
              "      <td>19.398777</td>\n",
              "      <td>5.660375</td>\n",
              "      <td>-3.774367</td>\n",
              "      <td>-1.517691</td>\n",
              "      <td>-4.040669</td>\n",
              "      <td>...</td>\n",
              "      <td>-6.839155</td>\n",
              "      <td>0.177551</td>\n",
              "      <td>-3.532260</td>\n",
              "      <td>-1.821146</td>\n",
              "      <td>0.013425</td>\n",
              "      <td>1.146517</td>\n",
              "      <td>0.037167</td>\n",
              "      <td>0</td>\n",
              "      <td>dataset/A1/IELTS Speaking Test Band 3.0 [OUXxohR7SmA]4n17to4n26-TRIM.mp3</td>\n",
              "      <td>0</td>\n",
              "    </tr>\n",
              "    <tr>\n",
              "      <th>2</th>\n",
              "      <td>385</td>\n",
              "      <td>-278.59366</td>\n",
              "      <td>16.817892</td>\n",
              "      <td>11.007432</td>\n",
              "      <td>7.860280</td>\n",
              "      <td>3.866176</td>\n",
              "      <td>-0.591760</td>\n",
              "      <td>-1.760511</td>\n",
              "      <td>-1.519152</td>\n",
              "      <td>-2.150009</td>\n",
              "      <td>...</td>\n",
              "      <td>-1.701624</td>\n",
              "      <td>-1.685636</td>\n",
              "      <td>-1.760334</td>\n",
              "      <td>-1.464489</td>\n",
              "      <td>0.010018</td>\n",
              "      <td>0.945067</td>\n",
              "      <td>0.403933</td>\n",
              "      <td>0</td>\n",
              "      <td>dataset/A1/IELTS Speaking Band 3 Sample with feedback [Jkp8eURNX3Q]6n57to7n05-TRIM.mp3</td>\n",
              "      <td>0</td>\n",
              "    </tr>\n",
              "    <tr>\n",
              "      <th>3</th>\n",
              "      <td>524</td>\n",
              "      <td>-348.40628</td>\n",
              "      <td>137.824970</td>\n",
              "      <td>34.165768</td>\n",
              "      <td>19.185066</td>\n",
              "      <td>10.984100</td>\n",
              "      <td>12.235502</td>\n",
              "      <td>-0.003394</td>\n",
              "      <td>4.112858</td>\n",
              "      <td>6.779053</td>\n",
              "      <td>...</td>\n",
              "      <td>1.769621</td>\n",
              "      <td>0.061544</td>\n",
              "      <td>-1.078849</td>\n",
              "      <td>2.101225</td>\n",
              "      <td>0.058572</td>\n",
              "      <td>1.238517</td>\n",
              "      <td>0.027987</td>\n",
              "      <td>0</td>\n",
              "      <td>dataset/A1/IELTS Speaking Test Band Score 2.5 [aRWPgieBlOc]9n58to10n07-TRIM.mp3</td>\n",
              "      <td>0</td>\n",
              "    </tr>\n",
              "    <tr>\n",
              "      <th>4</th>\n",
              "      <td>154</td>\n",
              "      <td>-488.42750</td>\n",
              "      <td>106.950850</td>\n",
              "      <td>24.272425</td>\n",
              "      <td>20.567575</td>\n",
              "      <td>5.685808</td>\n",
              "      <td>12.832743</td>\n",
              "      <td>5.906810</td>\n",
              "      <td>11.721909</td>\n",
              "      <td>4.346038</td>\n",
              "      <td>...</td>\n",
              "      <td>-1.841687</td>\n",
              "      <td>2.297661</td>\n",
              "      <td>-1.759773</td>\n",
              "      <td>0.854368</td>\n",
              "      <td>0.002649</td>\n",
              "      <td>1.017983</td>\n",
              "      <td>0.053574</td>\n",
              "      <td>0</td>\n",
              "      <td>dataset/A1/IELTS Speaking test band score 2.5, 2022 [7vzC-qMb0jQ]9:24to9:32-TRIM.mp3</td>\n",
              "      <td>0</td>\n",
              "    </tr>\n",
              "  </tbody>\n",
              "</table>\n",
              "<p>5 rows × 37 columns</p>\n",
              "</div>\n",
              "      <button class=\"colab-df-convert\" onclick=\"convertToInteractive('df-c0843d43-a907-41ef-bf7a-e58cbd482473')\"\n",
              "              title=\"Convert this dataframe to an interactive table.\"\n",
              "              style=\"display:none;\">\n",
              "\n",
              "  <svg xmlns=\"http://www.w3.org/2000/svg\" height=\"24px\"viewBox=\"0 0 24 24\"\n",
              "       width=\"24px\">\n",
              "    <path d=\"M0 0h24v24H0V0z\" fill=\"none\"/>\n",
              "    <path d=\"M18.56 5.44l.94 2.06.94-2.06 2.06-.94-2.06-.94-.94-2.06-.94 2.06-2.06.94zm-11 1L8.5 8.5l.94-2.06 2.06-.94-2.06-.94L8.5 2.5l-.94 2.06-2.06.94zm10 10l.94 2.06.94-2.06 2.06-.94-2.06-.94-.94-2.06-.94 2.06-2.06.94z\"/><path d=\"M17.41 7.96l-1.37-1.37c-.4-.4-.92-.59-1.43-.59-.52 0-1.04.2-1.43.59L10.3 9.45l-7.72 7.72c-.78.78-.78 2.05 0 2.83L4 21.41c.39.39.9.59 1.41.59.51 0 1.02-.2 1.41-.59l7.78-7.78 2.81-2.81c.8-.78.8-2.07 0-2.86zM5.41 20L4 18.59l7.72-7.72 1.47 1.35L5.41 20z\"/>\n",
              "  </svg>\n",
              "      </button>\n",
              "\n",
              "\n",
              "\n",
              "    <div id=\"df-a694b78c-31be-432e-bf97-8a5ab32f37e7\">\n",
              "      <button class=\"colab-df-quickchart\" onclick=\"quickchart('df-a694b78c-31be-432e-bf97-8a5ab32f37e7')\"\n",
              "              title=\"Suggest charts.\"\n",
              "              style=\"display:none;\">\n",
              "\n",
              "<svg xmlns=\"http://www.w3.org/2000/svg\" height=\"24px\"viewBox=\"0 0 24 24\"\n",
              "     width=\"24px\">\n",
              "    <g>\n",
              "        <path d=\"M19 3H5c-1.1 0-2 .9-2 2v14c0 1.1.9 2 2 2h14c1.1 0 2-.9 2-2V5c0-1.1-.9-2-2-2zM9 17H7v-7h2v7zm4 0h-2V7h2v10zm4 0h-2v-4h2v4z\"/>\n",
              "    </g>\n",
              "</svg>\n",
              "      </button>\n",
              "    </div>\n",
              "\n",
              "<style>\n",
              "  .colab-df-quickchart {\n",
              "    background-color: #E8F0FE;\n",
              "    border: none;\n",
              "    border-radius: 50%;\n",
              "    cursor: pointer;\n",
              "    display: none;\n",
              "    fill: #1967D2;\n",
              "    height: 32px;\n",
              "    padding: 0 0 0 0;\n",
              "    width: 32px;\n",
              "  }\n",
              "\n",
              "  .colab-df-quickchart:hover {\n",
              "    background-color: #E2EBFA;\n",
              "    box-shadow: 0px 1px 2px rgba(60, 64, 67, 0.3), 0px 1px 3px 1px rgba(60, 64, 67, 0.15);\n",
              "    fill: #174EA6;\n",
              "  }\n",
              "\n",
              "  [theme=dark] .colab-df-quickchart {\n",
              "    background-color: #3B4455;\n",
              "    fill: #D2E3FC;\n",
              "  }\n",
              "\n",
              "  [theme=dark] .colab-df-quickchart:hover {\n",
              "    background-color: #434B5C;\n",
              "    box-shadow: 0px 1px 3px 1px rgba(0, 0, 0, 0.15);\n",
              "    filter: drop-shadow(0px 1px 2px rgba(0, 0, 0, 0.3));\n",
              "    fill: #FFFFFF;\n",
              "  }\n",
              "</style>\n",
              "\n",
              "    <script>\n",
              "      async function quickchart(key) {\n",
              "        const containerElement = document.querySelector('#' + key);\n",
              "        const charts = await google.colab.kernel.invokeFunction(\n",
              "            'suggestCharts', [key], {});\n",
              "      }\n",
              "    </script>\n",
              "\n",
              "      <script>\n",
              "\n",
              "function displayQuickchartButton(domScope) {\n",
              "  let quickchartButtonEl =\n",
              "    domScope.querySelector('#df-a694b78c-31be-432e-bf97-8a5ab32f37e7 button.colab-df-quickchart');\n",
              "  quickchartButtonEl.style.display =\n",
              "    google.colab.kernel.accessAllowed ? 'block' : 'none';\n",
              "}\n",
              "\n",
              "        displayQuickchartButton(document);\n",
              "      </script>\n",
              "      <style>\n",
              "    .colab-df-container {\n",
              "      display:flex;\n",
              "      flex-wrap:wrap;\n",
              "      gap: 12px;\n",
              "    }\n",
              "\n",
              "    .colab-df-convert {\n",
              "      background-color: #E8F0FE;\n",
              "      border: none;\n",
              "      border-radius: 50%;\n",
              "      cursor: pointer;\n",
              "      display: none;\n",
              "      fill: #1967D2;\n",
              "      height: 32px;\n",
              "      padding: 0 0 0 0;\n",
              "      width: 32px;\n",
              "    }\n",
              "\n",
              "    .colab-df-convert:hover {\n",
              "      background-color: #E2EBFA;\n",
              "      box-shadow: 0px 1px 2px rgba(60, 64, 67, 0.3), 0px 1px 3px 1px rgba(60, 64, 67, 0.15);\n",
              "      fill: #174EA6;\n",
              "    }\n",
              "\n",
              "    [theme=dark] .colab-df-convert {\n",
              "      background-color: #3B4455;\n",
              "      fill: #D2E3FC;\n",
              "    }\n",
              "\n",
              "    [theme=dark] .colab-df-convert:hover {\n",
              "      background-color: #434B5C;\n",
              "      box-shadow: 0px 1px 3px 1px rgba(0, 0, 0, 0.15);\n",
              "      filter: drop-shadow(0px 1px 2px rgba(0, 0, 0, 0.3));\n",
              "      fill: #FFFFFF;\n",
              "    }\n",
              "  </style>\n",
              "\n",
              "      <script>\n",
              "        const buttonEl =\n",
              "          document.querySelector('#df-c0843d43-a907-41ef-bf7a-e58cbd482473 button.colab-df-convert');\n",
              "        buttonEl.style.display =\n",
              "          google.colab.kernel.accessAllowed ? 'block' : 'none';\n",
              "\n",
              "        async function convertToInteractive(key) {\n",
              "          const element = document.querySelector('#df-c0843d43-a907-41ef-bf7a-e58cbd482473');\n",
              "          const dataTable =\n",
              "            await google.colab.kernel.invokeFunction('convertToInteractive',\n",
              "                                                     [key], {});\n",
              "          if (!dataTable) return;\n",
              "\n",
              "          const docLinkHtml = 'Like what you see? Visit the ' +\n",
              "            '<a target=\"_blank\" href=https://colab.research.google.com/notebooks/data_table.ipynb>data table notebook</a>'\n",
              "            + ' to learn more about interactive tables.';\n",
              "          element.innerHTML = '';\n",
              "          dataTable['output_type'] = 'display_data';\n",
              "          await google.colab.output.renderOutput(dataTable, element);\n",
              "          const docLink = document.createElement('div');\n",
              "          docLink.innerHTML = docLinkHtml;\n",
              "          element.appendChild(docLink);\n",
              "        }\n",
              "      </script>\n",
              "    </div>\n",
              "  </div>\n"
            ]
          },
          "metadata": {},
          "execution_count": 8
        }
      ]
    },
    {
      "cell_type": "code",
      "source": [
        "# Display dataframe info\n",
        "dataset.info()"
      ],
      "metadata": {
        "id": "iZGWybZIJPaO",
        "colab": {
          "base_uri": "https://localhost:8080/"
        },
        "outputId": "e1e7de41-d62d-4990-8945-c70c0f4a72c3"
      },
      "execution_count": 9,
      "outputs": [
        {
          "output_type": "stream",
          "name": "stdout",
          "text": [
            "<class 'pandas.core.frame.DataFrame'>\n",
            "RangeIndex: 4560 entries, 0 to 4559\n",
            "Data columns (total 37 columns):\n",
            " #   Column      Non-Null Count  Dtype  \n",
            "---  ------      --------------  -----  \n",
            " 0   Unnamed: 0  4560 non-null   int64  \n",
            " 1   0           4560 non-null   float64\n",
            " 2   1           4560 non-null   float64\n",
            " 3   2           4560 non-null   float64\n",
            " 4   3           4560 non-null   float64\n",
            " 5   4           4560 non-null   float64\n",
            " 6   5           4560 non-null   float64\n",
            " 7   6           4560 non-null   float64\n",
            " 8   7           4560 non-null   float64\n",
            " 9   8           4560 non-null   float64\n",
            " 10  9           4560 non-null   float64\n",
            " 11  10          4560 non-null   float64\n",
            " 12  11          4560 non-null   float64\n",
            " 13  12          4560 non-null   float64\n",
            " 14  13          4560 non-null   float64\n",
            " 15  14          4560 non-null   float64\n",
            " 16  15          4560 non-null   float64\n",
            " 17  16          4560 non-null   float64\n",
            " 18  17          4560 non-null   float64\n",
            " 19  18          4560 non-null   float64\n",
            " 20  19          4560 non-null   float64\n",
            " 21  20          4560 non-null   float64\n",
            " 22  21          4560 non-null   float64\n",
            " 23  22          4560 non-null   float64\n",
            " 24  23          4560 non-null   float64\n",
            " 25  24          4560 non-null   float64\n",
            " 26  25          4560 non-null   float64\n",
            " 27  26          4560 non-null   float64\n",
            " 28  27          4560 non-null   float64\n",
            " 29  28          4560 non-null   float64\n",
            " 30  29          4560 non-null   float64\n",
            " 31  30          4560 non-null   float64\n",
            " 32  31          4560 non-null   float64\n",
            " 33  32          4560 non-null   float64\n",
            " 34  33          4560 non-null   int64  \n",
            " 35  34          4560 non-null   object \n",
            " 36  isError     4560 non-null   int64  \n",
            "dtypes: float64(33), int64(3), object(1)\n",
            "memory usage: 1.3+ MB\n"
          ]
        }
      ]
    },
    {
      "cell_type": "markdown",
      "source": [
        "<div class=\"markdown-google-sans\">\n",
        "\n",
        "## **Preprocessing 😱**\n",
        "</div>"
      ],
      "metadata": {
        "id": "OJP7irfzS-9G"
      }
    },
    {
      "cell_type": "markdown",
      "source": [
        "Before train model, another important step is preprocessing dataset before train model."
      ],
      "metadata": {
        "id": "tQP0N37H_Lbs"
      }
    },
    {
      "cell_type": "markdown",
      "source": [
        "<div class=\"markdown-google-sans\">\n",
        "\n",
        "### **One Hot Encoding Dataset ✅**\n",
        "</div>"
      ],
      "metadata": {
        "id": "kiaICR4YpMtY"
      }
    },
    {
      "cell_type": "markdown",
      "source": [
        "In my dataset the data label value is a range 0 - 5. But my model need data label value is bool. So I will perform one hot encoding into my dataset label. To do one hot encoding, I will use [`get_dummies`](https://pandas.pydata.org/docs/reference/api/pandas.get_dummies.html) function from Pandas."
      ],
      "metadata": {
        "id": "9mEmxWdzB9AW"
      }
    },
    {
      "cell_type": "code",
      "source": [
        "# One hot encoding\n",
        "df_category = pd.get_dummies(dataset[\"33\"])"
      ],
      "metadata": {
        "id": "oh4aDxGCvjQM"
      },
      "execution_count": 10,
      "outputs": []
    },
    {
      "cell_type": "code",
      "source": [
        "# Display dataframe\n",
        "df_category.tail()"
      ],
      "metadata": {
        "id": "_DPous_TvlKC",
        "colab": {
          "base_uri": "https://localhost:8080/",
          "height": 0
        },
        "outputId": "a8719a9a-2c58-4cea-d975-3bcf5dedc97d"
      },
      "execution_count": 11,
      "outputs": [
        {
          "output_type": "execute_result",
          "data": {
            "text/plain": [
              "      0  1  2  3  4  5\n",
              "4555  0  0  0  0  0  1\n",
              "4556  0  0  0  0  0  1\n",
              "4557  0  0  0  0  0  1\n",
              "4558  0  0  0  0  0  1\n",
              "4559  0  0  0  0  0  1"
            ],
            "text/html": [
              "\n",
              "\n",
              "  <div id=\"df-cdae95b4-6358-4a28-9552-85e4614762ea\">\n",
              "    <div class=\"colab-df-container\">\n",
              "      <div>\n",
              "<style scoped>\n",
              "    .dataframe tbody tr th:only-of-type {\n",
              "        vertical-align: middle;\n",
              "    }\n",
              "\n",
              "    .dataframe tbody tr th {\n",
              "        vertical-align: top;\n",
              "    }\n",
              "\n",
              "    .dataframe thead th {\n",
              "        text-align: right;\n",
              "    }\n",
              "</style>\n",
              "<table border=\"1\" class=\"dataframe\">\n",
              "  <thead>\n",
              "    <tr style=\"text-align: right;\">\n",
              "      <th></th>\n",
              "      <th>0</th>\n",
              "      <th>1</th>\n",
              "      <th>2</th>\n",
              "      <th>3</th>\n",
              "      <th>4</th>\n",
              "      <th>5</th>\n",
              "    </tr>\n",
              "  </thead>\n",
              "  <tbody>\n",
              "    <tr>\n",
              "      <th>4555</th>\n",
              "      <td>0</td>\n",
              "      <td>0</td>\n",
              "      <td>0</td>\n",
              "      <td>0</td>\n",
              "      <td>0</td>\n",
              "      <td>1</td>\n",
              "    </tr>\n",
              "    <tr>\n",
              "      <th>4556</th>\n",
              "      <td>0</td>\n",
              "      <td>0</td>\n",
              "      <td>0</td>\n",
              "      <td>0</td>\n",
              "      <td>0</td>\n",
              "      <td>1</td>\n",
              "    </tr>\n",
              "    <tr>\n",
              "      <th>4557</th>\n",
              "      <td>0</td>\n",
              "      <td>0</td>\n",
              "      <td>0</td>\n",
              "      <td>0</td>\n",
              "      <td>0</td>\n",
              "      <td>1</td>\n",
              "    </tr>\n",
              "    <tr>\n",
              "      <th>4558</th>\n",
              "      <td>0</td>\n",
              "      <td>0</td>\n",
              "      <td>0</td>\n",
              "      <td>0</td>\n",
              "      <td>0</td>\n",
              "      <td>1</td>\n",
              "    </tr>\n",
              "    <tr>\n",
              "      <th>4559</th>\n",
              "      <td>0</td>\n",
              "      <td>0</td>\n",
              "      <td>0</td>\n",
              "      <td>0</td>\n",
              "      <td>0</td>\n",
              "      <td>1</td>\n",
              "    </tr>\n",
              "  </tbody>\n",
              "</table>\n",
              "</div>\n",
              "      <button class=\"colab-df-convert\" onclick=\"convertToInteractive('df-cdae95b4-6358-4a28-9552-85e4614762ea')\"\n",
              "              title=\"Convert this dataframe to an interactive table.\"\n",
              "              style=\"display:none;\">\n",
              "\n",
              "  <svg xmlns=\"http://www.w3.org/2000/svg\" height=\"24px\"viewBox=\"0 0 24 24\"\n",
              "       width=\"24px\">\n",
              "    <path d=\"M0 0h24v24H0V0z\" fill=\"none\"/>\n",
              "    <path d=\"M18.56 5.44l.94 2.06.94-2.06 2.06-.94-2.06-.94-.94-2.06-.94 2.06-2.06.94zm-11 1L8.5 8.5l.94-2.06 2.06-.94-2.06-.94L8.5 2.5l-.94 2.06-2.06.94zm10 10l.94 2.06.94-2.06 2.06-.94-2.06-.94-.94-2.06-.94 2.06-2.06.94z\"/><path d=\"M17.41 7.96l-1.37-1.37c-.4-.4-.92-.59-1.43-.59-.52 0-1.04.2-1.43.59L10.3 9.45l-7.72 7.72c-.78.78-.78 2.05 0 2.83L4 21.41c.39.39.9.59 1.41.59.51 0 1.02-.2 1.41-.59l7.78-7.78 2.81-2.81c.8-.78.8-2.07 0-2.86zM5.41 20L4 18.59l7.72-7.72 1.47 1.35L5.41 20z\"/>\n",
              "  </svg>\n",
              "      </button>\n",
              "\n",
              "\n",
              "\n",
              "    <div id=\"df-cfa86a94-6ac8-43b5-b428-7a956599d35c\">\n",
              "      <button class=\"colab-df-quickchart\" onclick=\"quickchart('df-cfa86a94-6ac8-43b5-b428-7a956599d35c')\"\n",
              "              title=\"Suggest charts.\"\n",
              "              style=\"display:none;\">\n",
              "\n",
              "<svg xmlns=\"http://www.w3.org/2000/svg\" height=\"24px\"viewBox=\"0 0 24 24\"\n",
              "     width=\"24px\">\n",
              "    <g>\n",
              "        <path d=\"M19 3H5c-1.1 0-2 .9-2 2v14c0 1.1.9 2 2 2h14c1.1 0 2-.9 2-2V5c0-1.1-.9-2-2-2zM9 17H7v-7h2v7zm4 0h-2V7h2v10zm4 0h-2v-4h2v4z\"/>\n",
              "    </g>\n",
              "</svg>\n",
              "      </button>\n",
              "    </div>\n",
              "\n",
              "<style>\n",
              "  .colab-df-quickchart {\n",
              "    background-color: #E8F0FE;\n",
              "    border: none;\n",
              "    border-radius: 50%;\n",
              "    cursor: pointer;\n",
              "    display: none;\n",
              "    fill: #1967D2;\n",
              "    height: 32px;\n",
              "    padding: 0 0 0 0;\n",
              "    width: 32px;\n",
              "  }\n",
              "\n",
              "  .colab-df-quickchart:hover {\n",
              "    background-color: #E2EBFA;\n",
              "    box-shadow: 0px 1px 2px rgba(60, 64, 67, 0.3), 0px 1px 3px 1px rgba(60, 64, 67, 0.15);\n",
              "    fill: #174EA6;\n",
              "  }\n",
              "\n",
              "  [theme=dark] .colab-df-quickchart {\n",
              "    background-color: #3B4455;\n",
              "    fill: #D2E3FC;\n",
              "  }\n",
              "\n",
              "  [theme=dark] .colab-df-quickchart:hover {\n",
              "    background-color: #434B5C;\n",
              "    box-shadow: 0px 1px 3px 1px rgba(0, 0, 0, 0.15);\n",
              "    filter: drop-shadow(0px 1px 2px rgba(0, 0, 0, 0.3));\n",
              "    fill: #FFFFFF;\n",
              "  }\n",
              "</style>\n",
              "\n",
              "    <script>\n",
              "      async function quickchart(key) {\n",
              "        const containerElement = document.querySelector('#' + key);\n",
              "        const charts = await google.colab.kernel.invokeFunction(\n",
              "            'suggestCharts', [key], {});\n",
              "      }\n",
              "    </script>\n",
              "\n",
              "      <script>\n",
              "\n",
              "function displayQuickchartButton(domScope) {\n",
              "  let quickchartButtonEl =\n",
              "    domScope.querySelector('#df-cfa86a94-6ac8-43b5-b428-7a956599d35c button.colab-df-quickchart');\n",
              "  quickchartButtonEl.style.display =\n",
              "    google.colab.kernel.accessAllowed ? 'block' : 'none';\n",
              "}\n",
              "\n",
              "        displayQuickchartButton(document);\n",
              "      </script>\n",
              "      <style>\n",
              "    .colab-df-container {\n",
              "      display:flex;\n",
              "      flex-wrap:wrap;\n",
              "      gap: 12px;\n",
              "    }\n",
              "\n",
              "    .colab-df-convert {\n",
              "      background-color: #E8F0FE;\n",
              "      border: none;\n",
              "      border-radius: 50%;\n",
              "      cursor: pointer;\n",
              "      display: none;\n",
              "      fill: #1967D2;\n",
              "      height: 32px;\n",
              "      padding: 0 0 0 0;\n",
              "      width: 32px;\n",
              "    }\n",
              "\n",
              "    .colab-df-convert:hover {\n",
              "      background-color: #E2EBFA;\n",
              "      box-shadow: 0px 1px 2px rgba(60, 64, 67, 0.3), 0px 1px 3px 1px rgba(60, 64, 67, 0.15);\n",
              "      fill: #174EA6;\n",
              "    }\n",
              "\n",
              "    [theme=dark] .colab-df-convert {\n",
              "      background-color: #3B4455;\n",
              "      fill: #D2E3FC;\n",
              "    }\n",
              "\n",
              "    [theme=dark] .colab-df-convert:hover {\n",
              "      background-color: #434B5C;\n",
              "      box-shadow: 0px 1px 3px 1px rgba(0, 0, 0, 0.15);\n",
              "      filter: drop-shadow(0px 1px 2px rgba(0, 0, 0, 0.3));\n",
              "      fill: #FFFFFF;\n",
              "    }\n",
              "  </style>\n",
              "\n",
              "      <script>\n",
              "        const buttonEl =\n",
              "          document.querySelector('#df-cdae95b4-6358-4a28-9552-85e4614762ea button.colab-df-convert');\n",
              "        buttonEl.style.display =\n",
              "          google.colab.kernel.accessAllowed ? 'block' : 'none';\n",
              "\n",
              "        async function convertToInteractive(key) {\n",
              "          const element = document.querySelector('#df-cdae95b4-6358-4a28-9552-85e4614762ea');\n",
              "          const dataTable =\n",
              "            await google.colab.kernel.invokeFunction('convertToInteractive',\n",
              "                                                     [key], {});\n",
              "          if (!dataTable) return;\n",
              "\n",
              "          const docLinkHtml = 'Like what you see? Visit the ' +\n",
              "            '<a target=\"_blank\" href=https://colab.research.google.com/notebooks/data_table.ipynb>data table notebook</a>'\n",
              "            + ' to learn more about interactive tables.';\n",
              "          element.innerHTML = '';\n",
              "          dataTable['output_type'] = 'display_data';\n",
              "          await google.colab.output.renderOutput(dataTable, element);\n",
              "          const docLink = document.createElement('div');\n",
              "          docLink.innerHTML = docLinkHtml;\n",
              "          element.appendChild(docLink);\n",
              "        }\n",
              "      </script>\n",
              "    </div>\n",
              "  </div>\n"
            ]
          },
          "metadata": {},
          "execution_count": 11
        }
      ]
    },
    {
      "cell_type": "markdown",
      "source": [
        "Last I can merge the one hot encoding dataset with real dataset use [`concat`](https://pandas.pydata.org/docs/reference/api/pandas.concat.html) function from Pandas."
      ],
      "metadata": {
        "id": "qC-kGwDCCpqs"
      }
    },
    {
      "cell_type": "code",
      "source": [
        "# Merge dataframe\n",
        "new_df = pd.concat([dataset, df_category], axis=1)\n",
        "\n",
        "# Dispay dataframe\n",
        "new_df.head()"
      ],
      "metadata": {
        "id": "-eZQ5xyDvm55",
        "colab": {
          "base_uri": "https://localhost:8080/",
          "height": 0
        },
        "outputId": "cf8aa791-3a58-4f6a-9af5-8ebcdf39afd1"
      },
      "execution_count": 12,
      "outputs": [
        {
          "output_type": "execute_result",
          "data": {
            "text/plain": [
              "   Unnamed: 0          0           1          2          3          4  \\\n",
              "0         559 -397.22418  141.324280 -24.572893  40.727090   6.138770   \n",
              "1         562 -424.25787  135.763240  13.817374  34.567535  19.398777   \n",
              "2         385 -278.59366   16.817892  11.007432   7.860280   3.866176   \n",
              "3         524 -348.40628  137.824970  34.165768  19.185066  10.984100   \n",
              "4         154 -488.42750  106.950850  24.272425  20.567575   5.685808   \n",
              "\n",
              "           5         6          7         8  ...        32  33  \\\n",
              "0 -16.976065 -3.223198  -5.991923  5.064151  ...  0.058135   0   \n",
              "1   5.660375 -3.774367  -1.517691 -4.040669  ...  0.037167   0   \n",
              "2  -0.591760 -1.760511  -1.519152 -2.150009  ...  0.403933   0   \n",
              "3  12.235502 -0.003394   4.112858  6.779053  ...  0.027987   0   \n",
              "4  12.832743  5.906810  11.721909  4.346038  ...  0.053574   0   \n",
              "\n",
              "                                                                                                              34  \\\n",
              "0  dataset/A1/IELTS Speaking Band 2.5 - Funny Speaking Test ｜ Behind The Scenes [eXOu4MSYJyM]3n03to3n11-TRIM.mp3   \n",
              "1                                       dataset/A1/IELTS Speaking Test Band 3.0 [OUXxohR7SmA]4n17to4n26-TRIM.mp3   \n",
              "2                         dataset/A1/IELTS Speaking Band 3 Sample with feedback [Jkp8eURNX3Q]6n57to7n05-TRIM.mp3   \n",
              "3                                dataset/A1/IELTS Speaking Test Band Score 2.5 [aRWPgieBlOc]9n58to10n07-TRIM.mp3   \n",
              "4                           dataset/A1/IELTS Speaking test band score 2.5, 2022 [7vzC-qMb0jQ]9:24to9:32-TRIM.mp3   \n",
              "\n",
              "   isError  0  1  2  3  4  5  \n",
              "0        0  1  0  0  0  0  0  \n",
              "1        0  1  0  0  0  0  0  \n",
              "2        0  1  0  0  0  0  0  \n",
              "3        0  1  0  0  0  0  0  \n",
              "4        0  1  0  0  0  0  0  \n",
              "\n",
              "[5 rows x 43 columns]"
            ],
            "text/html": [
              "\n",
              "\n",
              "  <div id=\"df-acd83814-9678-4d5a-9051-caeb88ac9ffc\">\n",
              "    <div class=\"colab-df-container\">\n",
              "      <div>\n",
              "<style scoped>\n",
              "    .dataframe tbody tr th:only-of-type {\n",
              "        vertical-align: middle;\n",
              "    }\n",
              "\n",
              "    .dataframe tbody tr th {\n",
              "        vertical-align: top;\n",
              "    }\n",
              "\n",
              "    .dataframe thead th {\n",
              "        text-align: right;\n",
              "    }\n",
              "</style>\n",
              "<table border=\"1\" class=\"dataframe\">\n",
              "  <thead>\n",
              "    <tr style=\"text-align: right;\">\n",
              "      <th></th>\n",
              "      <th>Unnamed: 0</th>\n",
              "      <th>0</th>\n",
              "      <th>1</th>\n",
              "      <th>2</th>\n",
              "      <th>3</th>\n",
              "      <th>4</th>\n",
              "      <th>5</th>\n",
              "      <th>6</th>\n",
              "      <th>7</th>\n",
              "      <th>8</th>\n",
              "      <th>...</th>\n",
              "      <th>32</th>\n",
              "      <th>33</th>\n",
              "      <th>34</th>\n",
              "      <th>isError</th>\n",
              "      <th>0</th>\n",
              "      <th>1</th>\n",
              "      <th>2</th>\n",
              "      <th>3</th>\n",
              "      <th>4</th>\n",
              "      <th>5</th>\n",
              "    </tr>\n",
              "  </thead>\n",
              "  <tbody>\n",
              "    <tr>\n",
              "      <th>0</th>\n",
              "      <td>559</td>\n",
              "      <td>-397.22418</td>\n",
              "      <td>141.324280</td>\n",
              "      <td>-24.572893</td>\n",
              "      <td>40.727090</td>\n",
              "      <td>6.138770</td>\n",
              "      <td>-16.976065</td>\n",
              "      <td>-3.223198</td>\n",
              "      <td>-5.991923</td>\n",
              "      <td>5.064151</td>\n",
              "      <td>...</td>\n",
              "      <td>0.058135</td>\n",
              "      <td>0</td>\n",
              "      <td>dataset/A1/IELTS Speaking Band 2.5 - Funny Speaking Test ｜ Behind The Scenes [eXOu4MSYJyM]3n03to3n11-TRIM.mp3</td>\n",
              "      <td>0</td>\n",
              "      <td>1</td>\n",
              "      <td>0</td>\n",
              "      <td>0</td>\n",
              "      <td>0</td>\n",
              "      <td>0</td>\n",
              "      <td>0</td>\n",
              "    </tr>\n",
              "    <tr>\n",
              "      <th>1</th>\n",
              "      <td>562</td>\n",
              "      <td>-424.25787</td>\n",
              "      <td>135.763240</td>\n",
              "      <td>13.817374</td>\n",
              "      <td>34.567535</td>\n",
              "      <td>19.398777</td>\n",
              "      <td>5.660375</td>\n",
              "      <td>-3.774367</td>\n",
              "      <td>-1.517691</td>\n",
              "      <td>-4.040669</td>\n",
              "      <td>...</td>\n",
              "      <td>0.037167</td>\n",
              "      <td>0</td>\n",
              "      <td>dataset/A1/IELTS Speaking Test Band 3.0 [OUXxohR7SmA]4n17to4n26-TRIM.mp3</td>\n",
              "      <td>0</td>\n",
              "      <td>1</td>\n",
              "      <td>0</td>\n",
              "      <td>0</td>\n",
              "      <td>0</td>\n",
              "      <td>0</td>\n",
              "      <td>0</td>\n",
              "    </tr>\n",
              "    <tr>\n",
              "      <th>2</th>\n",
              "      <td>385</td>\n",
              "      <td>-278.59366</td>\n",
              "      <td>16.817892</td>\n",
              "      <td>11.007432</td>\n",
              "      <td>7.860280</td>\n",
              "      <td>3.866176</td>\n",
              "      <td>-0.591760</td>\n",
              "      <td>-1.760511</td>\n",
              "      <td>-1.519152</td>\n",
              "      <td>-2.150009</td>\n",
              "      <td>...</td>\n",
              "      <td>0.403933</td>\n",
              "      <td>0</td>\n",
              "      <td>dataset/A1/IELTS Speaking Band 3 Sample with feedback [Jkp8eURNX3Q]6n57to7n05-TRIM.mp3</td>\n",
              "      <td>0</td>\n",
              "      <td>1</td>\n",
              "      <td>0</td>\n",
              "      <td>0</td>\n",
              "      <td>0</td>\n",
              "      <td>0</td>\n",
              "      <td>0</td>\n",
              "    </tr>\n",
              "    <tr>\n",
              "      <th>3</th>\n",
              "      <td>524</td>\n",
              "      <td>-348.40628</td>\n",
              "      <td>137.824970</td>\n",
              "      <td>34.165768</td>\n",
              "      <td>19.185066</td>\n",
              "      <td>10.984100</td>\n",
              "      <td>12.235502</td>\n",
              "      <td>-0.003394</td>\n",
              "      <td>4.112858</td>\n",
              "      <td>6.779053</td>\n",
              "      <td>...</td>\n",
              "      <td>0.027987</td>\n",
              "      <td>0</td>\n",
              "      <td>dataset/A1/IELTS Speaking Test Band Score 2.5 [aRWPgieBlOc]9n58to10n07-TRIM.mp3</td>\n",
              "      <td>0</td>\n",
              "      <td>1</td>\n",
              "      <td>0</td>\n",
              "      <td>0</td>\n",
              "      <td>0</td>\n",
              "      <td>0</td>\n",
              "      <td>0</td>\n",
              "    </tr>\n",
              "    <tr>\n",
              "      <th>4</th>\n",
              "      <td>154</td>\n",
              "      <td>-488.42750</td>\n",
              "      <td>106.950850</td>\n",
              "      <td>24.272425</td>\n",
              "      <td>20.567575</td>\n",
              "      <td>5.685808</td>\n",
              "      <td>12.832743</td>\n",
              "      <td>5.906810</td>\n",
              "      <td>11.721909</td>\n",
              "      <td>4.346038</td>\n",
              "      <td>...</td>\n",
              "      <td>0.053574</td>\n",
              "      <td>0</td>\n",
              "      <td>dataset/A1/IELTS Speaking test band score 2.5, 2022 [7vzC-qMb0jQ]9:24to9:32-TRIM.mp3</td>\n",
              "      <td>0</td>\n",
              "      <td>1</td>\n",
              "      <td>0</td>\n",
              "      <td>0</td>\n",
              "      <td>0</td>\n",
              "      <td>0</td>\n",
              "      <td>0</td>\n",
              "    </tr>\n",
              "  </tbody>\n",
              "</table>\n",
              "<p>5 rows × 43 columns</p>\n",
              "</div>\n",
              "      <button class=\"colab-df-convert\" onclick=\"convertToInteractive('df-acd83814-9678-4d5a-9051-caeb88ac9ffc')\"\n",
              "              title=\"Convert this dataframe to an interactive table.\"\n",
              "              style=\"display:none;\">\n",
              "\n",
              "  <svg xmlns=\"http://www.w3.org/2000/svg\" height=\"24px\"viewBox=\"0 0 24 24\"\n",
              "       width=\"24px\">\n",
              "    <path d=\"M0 0h24v24H0V0z\" fill=\"none\"/>\n",
              "    <path d=\"M18.56 5.44l.94 2.06.94-2.06 2.06-.94-2.06-.94-.94-2.06-.94 2.06-2.06.94zm-11 1L8.5 8.5l.94-2.06 2.06-.94-2.06-.94L8.5 2.5l-.94 2.06-2.06.94zm10 10l.94 2.06.94-2.06 2.06-.94-2.06-.94-.94-2.06-.94 2.06-2.06.94z\"/><path d=\"M17.41 7.96l-1.37-1.37c-.4-.4-.92-.59-1.43-.59-.52 0-1.04.2-1.43.59L10.3 9.45l-7.72 7.72c-.78.78-.78 2.05 0 2.83L4 21.41c.39.39.9.59 1.41.59.51 0 1.02-.2 1.41-.59l7.78-7.78 2.81-2.81c.8-.78.8-2.07 0-2.86zM5.41 20L4 18.59l7.72-7.72 1.47 1.35L5.41 20z\"/>\n",
              "  </svg>\n",
              "      </button>\n",
              "\n",
              "\n",
              "\n",
              "    <div id=\"df-472778df-08e1-49a4-9834-3f315976bc63\">\n",
              "      <button class=\"colab-df-quickchart\" onclick=\"quickchart('df-472778df-08e1-49a4-9834-3f315976bc63')\"\n",
              "              title=\"Suggest charts.\"\n",
              "              style=\"display:none;\">\n",
              "\n",
              "<svg xmlns=\"http://www.w3.org/2000/svg\" height=\"24px\"viewBox=\"0 0 24 24\"\n",
              "     width=\"24px\">\n",
              "    <g>\n",
              "        <path d=\"M19 3H5c-1.1 0-2 .9-2 2v14c0 1.1.9 2 2 2h14c1.1 0 2-.9 2-2V5c0-1.1-.9-2-2-2zM9 17H7v-7h2v7zm4 0h-2V7h2v10zm4 0h-2v-4h2v4z\"/>\n",
              "    </g>\n",
              "</svg>\n",
              "      </button>\n",
              "    </div>\n",
              "\n",
              "<style>\n",
              "  .colab-df-quickchart {\n",
              "    background-color: #E8F0FE;\n",
              "    border: none;\n",
              "    border-radius: 50%;\n",
              "    cursor: pointer;\n",
              "    display: none;\n",
              "    fill: #1967D2;\n",
              "    height: 32px;\n",
              "    padding: 0 0 0 0;\n",
              "    width: 32px;\n",
              "  }\n",
              "\n",
              "  .colab-df-quickchart:hover {\n",
              "    background-color: #E2EBFA;\n",
              "    box-shadow: 0px 1px 2px rgba(60, 64, 67, 0.3), 0px 1px 3px 1px rgba(60, 64, 67, 0.15);\n",
              "    fill: #174EA6;\n",
              "  }\n",
              "\n",
              "  [theme=dark] .colab-df-quickchart {\n",
              "    background-color: #3B4455;\n",
              "    fill: #D2E3FC;\n",
              "  }\n",
              "\n",
              "  [theme=dark] .colab-df-quickchart:hover {\n",
              "    background-color: #434B5C;\n",
              "    box-shadow: 0px 1px 3px 1px rgba(0, 0, 0, 0.15);\n",
              "    filter: drop-shadow(0px 1px 2px rgba(0, 0, 0, 0.3));\n",
              "    fill: #FFFFFF;\n",
              "  }\n",
              "</style>\n",
              "\n",
              "    <script>\n",
              "      async function quickchart(key) {\n",
              "        const containerElement = document.querySelector('#' + key);\n",
              "        const charts = await google.colab.kernel.invokeFunction(\n",
              "            'suggestCharts', [key], {});\n",
              "      }\n",
              "    </script>\n",
              "\n",
              "      <script>\n",
              "\n",
              "function displayQuickchartButton(domScope) {\n",
              "  let quickchartButtonEl =\n",
              "    domScope.querySelector('#df-472778df-08e1-49a4-9834-3f315976bc63 button.colab-df-quickchart');\n",
              "  quickchartButtonEl.style.display =\n",
              "    google.colab.kernel.accessAllowed ? 'block' : 'none';\n",
              "}\n",
              "\n",
              "        displayQuickchartButton(document);\n",
              "      </script>\n",
              "      <style>\n",
              "    .colab-df-container {\n",
              "      display:flex;\n",
              "      flex-wrap:wrap;\n",
              "      gap: 12px;\n",
              "    }\n",
              "\n",
              "    .colab-df-convert {\n",
              "      background-color: #E8F0FE;\n",
              "      border: none;\n",
              "      border-radius: 50%;\n",
              "      cursor: pointer;\n",
              "      display: none;\n",
              "      fill: #1967D2;\n",
              "      height: 32px;\n",
              "      padding: 0 0 0 0;\n",
              "      width: 32px;\n",
              "    }\n",
              "\n",
              "    .colab-df-convert:hover {\n",
              "      background-color: #E2EBFA;\n",
              "      box-shadow: 0px 1px 2px rgba(60, 64, 67, 0.3), 0px 1px 3px 1px rgba(60, 64, 67, 0.15);\n",
              "      fill: #174EA6;\n",
              "    }\n",
              "\n",
              "    [theme=dark] .colab-df-convert {\n",
              "      background-color: #3B4455;\n",
              "      fill: #D2E3FC;\n",
              "    }\n",
              "\n",
              "    [theme=dark] .colab-df-convert:hover {\n",
              "      background-color: #434B5C;\n",
              "      box-shadow: 0px 1px 3px 1px rgba(0, 0, 0, 0.15);\n",
              "      filter: drop-shadow(0px 1px 2px rgba(0, 0, 0, 0.3));\n",
              "      fill: #FFFFFF;\n",
              "    }\n",
              "  </style>\n",
              "\n",
              "      <script>\n",
              "        const buttonEl =\n",
              "          document.querySelector('#df-acd83814-9678-4d5a-9051-caeb88ac9ffc button.colab-df-convert');\n",
              "        buttonEl.style.display =\n",
              "          google.colab.kernel.accessAllowed ? 'block' : 'none';\n",
              "\n",
              "        async function convertToInteractive(key) {\n",
              "          const element = document.querySelector('#df-acd83814-9678-4d5a-9051-caeb88ac9ffc');\n",
              "          const dataTable =\n",
              "            await google.colab.kernel.invokeFunction('convertToInteractive',\n",
              "                                                     [key], {});\n",
              "          if (!dataTable) return;\n",
              "\n",
              "          const docLinkHtml = 'Like what you see? Visit the ' +\n",
              "            '<a target=\"_blank\" href=https://colab.research.google.com/notebooks/data_table.ipynb>data table notebook</a>'\n",
              "            + ' to learn more about interactive tables.';\n",
              "          element.innerHTML = '';\n",
              "          dataTable['output_type'] = 'display_data';\n",
              "          await google.colab.output.renderOutput(dataTable, element);\n",
              "          const docLink = document.createElement('div');\n",
              "          docLink.innerHTML = docLinkHtml;\n",
              "          element.appendChild(docLink);\n",
              "        }\n",
              "      </script>\n",
              "    </div>\n",
              "  </div>\n"
            ]
          },
          "metadata": {},
          "execution_count": 12
        }
      ]
    },
    {
      "cell_type": "code",
      "source": [
        "# Dispay dataframe info\n",
        "new_df.info()"
      ],
      "metadata": {
        "id": "OBhrLq-Mvogw",
        "colab": {
          "base_uri": "https://localhost:8080/"
        },
        "outputId": "6932407a-dda7-4d6a-c322-b554838faca9"
      },
      "execution_count": 13,
      "outputs": [
        {
          "output_type": "stream",
          "name": "stdout",
          "text": [
            "<class 'pandas.core.frame.DataFrame'>\n",
            "RangeIndex: 4560 entries, 0 to 4559\n",
            "Data columns (total 43 columns):\n",
            " #   Column      Non-Null Count  Dtype  \n",
            "---  ------      --------------  -----  \n",
            " 0   Unnamed: 0  4560 non-null   int64  \n",
            " 1   0           4560 non-null   float64\n",
            " 2   1           4560 non-null   float64\n",
            " 3   2           4560 non-null   float64\n",
            " 4   3           4560 non-null   float64\n",
            " 5   4           4560 non-null   float64\n",
            " 6   5           4560 non-null   float64\n",
            " 7   6           4560 non-null   float64\n",
            " 8   7           4560 non-null   float64\n",
            " 9   8           4560 non-null   float64\n",
            " 10  9           4560 non-null   float64\n",
            " 11  10          4560 non-null   float64\n",
            " 12  11          4560 non-null   float64\n",
            " 13  12          4560 non-null   float64\n",
            " 14  13          4560 non-null   float64\n",
            " 15  14          4560 non-null   float64\n",
            " 16  15          4560 non-null   float64\n",
            " 17  16          4560 non-null   float64\n",
            " 18  17          4560 non-null   float64\n",
            " 19  18          4560 non-null   float64\n",
            " 20  19          4560 non-null   float64\n",
            " 21  20          4560 non-null   float64\n",
            " 22  21          4560 non-null   float64\n",
            " 23  22          4560 non-null   float64\n",
            " 24  23          4560 non-null   float64\n",
            " 25  24          4560 non-null   float64\n",
            " 26  25          4560 non-null   float64\n",
            " 27  26          4560 non-null   float64\n",
            " 28  27          4560 non-null   float64\n",
            " 29  28          4560 non-null   float64\n",
            " 30  29          4560 non-null   float64\n",
            " 31  30          4560 non-null   float64\n",
            " 32  31          4560 non-null   float64\n",
            " 33  32          4560 non-null   float64\n",
            " 34  33          4560 non-null   int64  \n",
            " 35  34          4560 non-null   object \n",
            " 36  isError     4560 non-null   int64  \n",
            " 37  0           4560 non-null   uint8  \n",
            " 38  1           4560 non-null   uint8  \n",
            " 39  2           4560 non-null   uint8  \n",
            " 40  3           4560 non-null   uint8  \n",
            " 41  4           4560 non-null   uint8  \n",
            " 42  5           4560 non-null   uint8  \n",
            "dtypes: float64(33), int64(3), object(1), uint8(6)\n",
            "memory usage: 1.3+ MB\n"
          ]
        }
      ]
    },
    {
      "cell_type": "markdown",
      "source": [
        "<div class=\"markdown-google-sans\">\n",
        "\n",
        "### **Prepare Dataset to Training ✅**\n",
        "</div>"
      ],
      "metadata": {
        "id": "xPRObFZcpNEX"
      }
    },
    {
      "cell_type": "markdown",
      "source": [
        "Next step, I will prepare the data for training by define the input value and label value."
      ],
      "metadata": {
        "id": "aHBwtrwTC-L3"
      }
    },
    {
      "cell_type": "code",
      "source": [
        "# Get numpy dataset\n",
        "dataset = new_df.values\n",
        "dataset"
      ],
      "metadata": {
        "id": "We8h_EjDvqST",
        "colab": {
          "base_uri": "https://localhost:8080/"
        },
        "outputId": "7f16d584-cefb-4d84-d3ee-9253f1ffc191"
      },
      "execution_count": 14,
      "outputs": [
        {
          "output_type": "execute_result",
          "data": {
            "text/plain": [
              "array([[559, -397.22418, 141.32428, ..., 0, 0, 0],\n",
              "       [562, -424.25787, 135.76324, ..., 0, 0, 0],\n",
              "       [385, -278.59366, 16.817892, ..., 0, 0, 0],\n",
              "       ...,\n",
              "       [5173, -317.656, 131.56319, ..., 0, 0, 1],\n",
              "       [5731, -484.6709, 100.54492, ..., 0, 0, 1],\n",
              "       [5020, -314.92126, 117.373344, ..., 0, 0, 1]], dtype=object)"
            ]
          },
          "metadata": {},
          "execution_count": 14
        }
      ]
    },
    {
      "cell_type": "code",
      "source": [
        "# Define X variable\n",
        "X = dataset[:,1:34]\n",
        "X = np.asarray(X).astype(np.float64)\n",
        "X"
      ],
      "metadata": {
        "id": "oGHKFUHEvybv",
        "colab": {
          "base_uri": "https://localhost:8080/"
        },
        "outputId": "23d076a4-807b-424f-8f5d-f64245143c13"
      },
      "execution_count": 15,
      "outputs": [
        {
          "output_type": "execute_result",
          "data": {
            "text/plain": [
              "array([[-3.97224180e+02,  1.41324280e+02, -2.45728930e+01, ...,\n",
              "         2.26997160e-02,  1.34453950e+00,  5.81351902e-02],\n",
              "       [-4.24257870e+02,  1.35763240e+02,  1.38173740e+01, ...,\n",
              "         1.34247730e-02,  1.14651690e+00,  3.71674136e-02],\n",
              "       [-2.78593660e+02,  1.68178920e+01,  1.10074320e+01, ...,\n",
              "         1.00182480e-02,  9.45067050e-01,  4.03933141e-01],\n",
              "       ...,\n",
              "       [-3.17656000e+02,  1.31563190e+02, -1.12497060e+00, ...,\n",
              "         2.74774260e-02,  1.51301310e+00,  8.63929271e-02],\n",
              "       [-4.84670900e+02,  1.00544920e+02,  4.68001800e+00, ...,\n",
              "         1.10235260e-02,  1.61841700e+00,  1.28026697e-01],\n",
              "       [-3.14921260e+02,  1.17373344e+02, -6.60378600e+00, ...,\n",
              "         3.75636150e-02,  2.04894470e+00,  1.07867697e-01]])"
            ]
          },
          "metadata": {},
          "execution_count": 15
        }
      ]
    },
    {
      "cell_type": "code",
      "source": [
        "# Define Y variable\n",
        "y = dataset[:,37:43]\n",
        "y = np.asarray(y).astype(np.int8)\n",
        "y"
      ],
      "metadata": {
        "id": "S1YcvXHMv0Gd",
        "colab": {
          "base_uri": "https://localhost:8080/"
        },
        "outputId": "d00231d8-04b4-4198-f317-becacdc04764"
      },
      "execution_count": 16,
      "outputs": [
        {
          "output_type": "execute_result",
          "data": {
            "text/plain": [
              "array([[1, 0, 0, 0, 0, 0],\n",
              "       [1, 0, 0, 0, 0, 0],\n",
              "       [1, 0, 0, 0, 0, 0],\n",
              "       ...,\n",
              "       [0, 0, 0, 0, 0, 1],\n",
              "       [0, 0, 0, 0, 0, 1],\n",
              "       [0, 0, 0, 0, 0, 1]], dtype=int8)"
            ]
          },
          "metadata": {},
          "execution_count": 16
        }
      ]
    },
    {
      "cell_type": "markdown",
      "source": [
        "<div class=\"markdown-google-sans\">\n",
        "\n",
        "### **Split Dataset ✅**\n",
        "</div>"
      ],
      "metadata": {
        "id": "HcM43yd3pNgu"
      }
    },
    {
      "cell_type": "markdown",
      "source": [
        "As I mention in begining, my dataset will be split into 3 data training, validation, and testing. To split dataset I use [`train_test_split`](https://scikit-learn.org/stable/modules/generated/sklearn.model_selection.train_test_split.html) function from ScikitLearn."
      ],
      "metadata": {
        "id": "2UzMCmdZDTbM"
      }
    },
    {
      "cell_type": "code",
      "source": [
        "# Split data\n",
        "X_train, X_test, y_train, y_test = train_test_split(X, y, test_size=TEST_SIZE, random_state=5, stratify=y)\n",
        "X_val, X_test, y_val, y_test = train_test_split(X_test, y_test, test_size=VAL_SIZE, random_state=5, stratify=y_test)"
      ],
      "metadata": {
        "id": "aqnC9Hdfv3aj"
      },
      "execution_count": 17,
      "outputs": []
    },
    {
      "cell_type": "markdown",
      "source": [
        "<div class=\"markdown-google-sans\">\n",
        "\n",
        "### **Expand Dimension Dataset ✅**\n",
        "</div>"
      ],
      "metadata": {
        "id": "sSZXtifSpOPA"
      }
    },
    {
      "cell_type": "markdown",
      "source": [
        "The RNN-LSTM need specifict shape of data to train the model. So to accommodate that I will expand input data dimension with [`expand_dims`](https://numpy.org/doc/stable/reference/generated/numpy.expand_dims.html) function from Numpy."
      ],
      "metadata": {
        "id": "zLrayM1xEu9Z"
      }
    },
    {
      "cell_type": "code",
      "source": [
        "# Expand X dimension\n",
        "X_train_ex = np.expand_dims(X_train, axis=1)\n",
        "X_test_ex = np.expand_dims(X_test, axis=1)\n",
        "X_val_ex = np.expand_dims(X_val, axis=1)"
      ],
      "metadata": {
        "id": "oIKQOOIwwPF0"
      },
      "execution_count": 18,
      "outputs": []
    },
    {
      "cell_type": "code",
      "source": [
        "# Display size data\n",
        "print(\"X_train shape:\", X_train_ex.shape)\n",
        "print(\"X_test shape:\", X_test_ex.shape)\n",
        "print(\"X_val shape:\", X_val_ex.shape)\n",
        "\n",
        "print(\"y_train shape:\", y_train.shape)\n",
        "print(\"y_test shape:\", y_test.shape)\n",
        "print(\"y_val shape:\", y_val.shape)"
      ],
      "metadata": {
        "id": "DxuT3PNMwQjT",
        "colab": {
          "base_uri": "https://localhost:8080/"
        },
        "outputId": "b7e6a5ed-d6a5-4e48-b1e6-9d3ad5ac21ea"
      },
      "execution_count": 19,
      "outputs": [
        {
          "output_type": "stream",
          "name": "stdout",
          "text": [
            "X_train shape: (3648, 1, 33)\n",
            "X_test shape: (456, 1, 33)\n",
            "X_val shape: (456, 1, 33)\n",
            "y_train shape: (3648, 6)\n",
            "y_test shape: (456, 6)\n",
            "y_val shape: (456, 6)\n"
          ]
        }
      ]
    },
    {
      "cell_type": "markdown",
      "source": [
        "<div class=\"markdown-google-sans\">\n",
        "\n",
        "## **Training 🫣**\n",
        "</div>"
      ],
      "metadata": {
        "id": "QZSj9aMATBDg"
      }
    },
    {
      "cell_type": "markdown",
      "source": [
        "Now we into the main section, I will train model."
      ],
      "metadata": {
        "id": "O7HH6Fzy5wo4"
      }
    },
    {
      "cell_type": "markdown",
      "source": [
        "<div class=\"markdown-google-sans\">\n",
        "\n",
        "### **Build Model ✅**\n",
        "</div>"
      ],
      "metadata": {
        "id": "27TMIKWdp6ec"
      }
    },
    {
      "cell_type": "markdown",
      "source": [
        "Before I train a RNN-LSTM model with Keras API. First I will define my model structure. To build model I use [`Sequential`](https://keras.io/api/models/sequential/#sequential-class) class. After define Sequential class, I will add my model layer that I have been mention in the begining of this notebook. Last I [`compile`](https://keras.io/api/models/model_training_apis/#compile-method) the model with loss function, optimizer, and metrics that I have been mention in the begining of this notebook."
      ],
      "metadata": {
        "id": "f_1pXmTE57_f"
      }
    },
    {
      "cell_type": "code",
      "source": [
        "# Build Model RNN LSTM\n",
        "print(\"Build RNN-LSTM model ...\")\n",
        "\n",
        "model = keras.models.Sequential(name=MODEL_NAME)\n",
        "\n",
        "model.add(keras.layers.LSTM(256,\n",
        "                            activation=\"relu\",\n",
        "                            return_sequences=True,\n",
        "                            input_shape=X_train_ex.shape[1:],\n",
        "                            name=\"lstm_1_input\"\n",
        "                           ))\n",
        "\n",
        "model.add(keras.layers.Dropout(0.2,\n",
        "                               name=\"dropout_1\"\n",
        "                              ))\n",
        "\n",
        "model.add(keras.layers.LSTM(128,\n",
        "                            activation=\"relu\",\n",
        "                            return_sequences=True,\n",
        "                            name=\"lstm_2\"\n",
        "                           ))\n",
        "\n",
        "model.add(keras.layers.Dropout(0.2,\n",
        "                               name=\"dropout_2\"\n",
        "                              ))\n",
        "\n",
        "model.add(keras.layers.LSTM(64,\n",
        "                            activation=\"relu\",\n",
        "                            return_sequences=False,\n",
        "                            name=\"lstm_3\"\n",
        "                           ))\n",
        "\n",
        "model.add(keras.layers.Dropout(0.2,\n",
        "                               name=\"dropout_3\"\n",
        "                              ))\n",
        "\n",
        "model.add(keras.layers.Dense(6,\n",
        "                             activation=\"softmax\",\n",
        "                             name=\"output\"\n",
        "                            ))\n",
        "\n",
        "print(\"Compiling ...\")\n",
        "\n",
        "model.compile(\n",
        "    loss = LOSS_FUNCTION,\n",
        "    optimizer = tf.keras.optimizers.RMSprop(learning_rate=LEARNING_RATE),\n",
        "    metrics = [\"accuracy\"]\n",
        ")\n",
        "\n",
        "print(\"Success !!!\")"
      ],
      "metadata": {
        "id": "dfIuNMI3wibz",
        "colab": {
          "base_uri": "https://localhost:8080/"
        },
        "outputId": "afd4b2f4-26e6-4bf1-82dd-1574a74c9a00"
      },
      "execution_count": 20,
      "outputs": [
        {
          "output_type": "stream",
          "name": "stdout",
          "text": [
            "Build RNN-LSTM model ...\n"
          ]
        },
        {
          "output_type": "stream",
          "name": "stderr",
          "text": [
            "WARNING:tensorflow:Layer lstm_1_input will not use cuDNN kernels since it doesn't meet the criteria. It will use a generic GPU kernel as fallback when running on GPU.\n",
            "WARNING:tensorflow:Layer lstm_2 will not use cuDNN kernels since it doesn't meet the criteria. It will use a generic GPU kernel as fallback when running on GPU.\n",
            "WARNING:tensorflow:Layer lstm_3 will not use cuDNN kernels since it doesn't meet the criteria. It will use a generic GPU kernel as fallback when running on GPU.\n"
          ]
        },
        {
          "output_type": "stream",
          "name": "stdout",
          "text": [
            "Compiling ...\n",
            "Success !!!\n"
          ]
        }
      ]
    },
    {
      "cell_type": "markdown",
      "source": [
        "I will use [Tensorboard](https://www.tensorflow.org/tensorboard) to save my training process history."
      ],
      "metadata": {
        "id": "dR5cvj9-76ez"
      }
    },
    {
      "cell_type": "code",
      "source": [
        "# Add tensorboard callback\n",
        "log_dir_pre = TENSORBOARD_LOG + \"/fit\" + datetime.datetime.now().strftime(\"%Y%m%d-%H%M%S\")\n",
        "\n",
        "tensorboard_callback = tf.keras.callbacks.TensorBoard(\n",
        "    log_dir = log_dir_pre,\n",
        "    histogram_freq = 1,\n",
        ")"
      ],
      "metadata": {
        "id": "Gx52HgKDw8qe"
      },
      "execution_count": 21,
      "outputs": []
    },
    {
      "cell_type": "markdown",
      "source": [
        "Before training my model, I will display my model architecture with [`summary`](https://keras.io/api/models/model/#summary-method) methode."
      ],
      "metadata": {
        "id": "qrF7nZVb8bVB"
      }
    },
    {
      "cell_type": "code",
      "source": [
        "# Display and save model summary\n",
        "def myprint(s):\n",
        "    with open(MODEL_SUMMARY, \"a\") as f:\n",
        "        print(s, file=f)\n",
        "\n",
        "model.summary(print_fn=myprint)\n",
        "model.summary()"
      ],
      "metadata": {
        "id": "YkZNp2FXw-rc",
        "colab": {
          "base_uri": "https://localhost:8080/"
        },
        "outputId": "3238937f-d425-483b-fa96-f92497dae81c"
      },
      "execution_count": 22,
      "outputs": [
        {
          "output_type": "stream",
          "name": "stdout",
          "text": [
            "Model: \"Final_RNN_LSTM_CEFR_Fluency_Model\"\n",
            "_________________________________________________________________\n",
            " Layer (type)                Output Shape              Param #   \n",
            "=================================================================\n",
            " lstm_1_input (LSTM)         (None, 1, 256)            296960    \n",
            "                                                                 \n",
            " dropout_1 (Dropout)         (None, 1, 256)            0         \n",
            "                                                                 \n",
            " lstm_2 (LSTM)               (None, 1, 128)            197120    \n",
            "                                                                 \n",
            " dropout_2 (Dropout)         (None, 1, 128)            0         \n",
            "                                                                 \n",
            " lstm_3 (LSTM)               (None, 64)                49408     \n",
            "                                                                 \n",
            " dropout_3 (Dropout)         (None, 64)                0         \n",
            "                                                                 \n",
            " output (Dense)              (None, 6)                 390       \n",
            "                                                                 \n",
            "=================================================================\n",
            "Total params: 543,878\n",
            "Trainable params: 543,878\n",
            "Non-trainable params: 0\n",
            "_________________________________________________________________\n"
          ]
        }
      ]
    },
    {
      "cell_type": "markdown",
      "source": [
        "<div class=\"markdown-google-sans\">\n",
        "\n",
        "### **Training model ✅**\n",
        "</div>"
      ],
      "metadata": {
        "id": "3dumVvayp60e"
      }
    },
    {
      "cell_type": "markdown",
      "source": [
        "Before training model, first I want to define the timer function."
      ],
      "metadata": {
        "id": "9qtmiCH9Nuu_"
      }
    },
    {
      "cell_type": "code",
      "source": [
        "# Define timer function\n",
        "def timer(start, end):\n",
        "    hours, rem = divmod(end-start, 3600)\n",
        "    minutes, seconds = divmod(rem, 60)\n",
        "    print(\"{:0>2}:{:0>2}:{:05.2f}\".format(int(hours), int(minutes), seconds))"
      ],
      "metadata": {
        "id": "RQpWTAlvNuFF"
      },
      "execution_count": 23,
      "outputs": []
    },
    {
      "cell_type": "markdown",
      "source": [
        "Now I can start train model by calling the [`fit`](https://keras.io/api/models/model_training_apis/#fit-method) method."
      ],
      "metadata": {
        "id": "PG6qW1wA86WY"
      }
    },
    {
      "cell_type": "code",
      "source": [
        "# Training model\n",
        "print(\"Start training...\")\n",
        "date_time_init = datetime.datetime.now().strftime(\"%Y-%m-%d at %H:%M:%S UTC\")\n",
        "print(date_time_init + \"\\n\")\n",
        "\n",
        "time_training_init = time.time()\n",
        "\n",
        "history = model.fit(X_train_ex,\n",
        "                    y_train,\n",
        "                    batch_size = BATCH_SIZE,\n",
        "                    validation_data = (X_val_ex, y_val),\n",
        "                    epochs = NUM_EPOCHS,\n",
        "                    shuffle = True,\n",
        "                    callbacks = [tensorboard_callback],\n",
        "                   )\n",
        "\n",
        "time_training_end = time.time()\n",
        "time_training = time_training_init - time_training_end\n",
        "\n",
        "print(\"\\nEnd training...\")\n",
        "date_time_end = datetime.datetime.now().strftime(\"%Y-%m-%d at %H:%M:%S UTC\")\n",
        "print(date_time_end + \"\\n\")\n",
        "\n",
        "print(\"Training time:\")\n",
        "timer(time_training_init, time_training_end)"
      ],
      "metadata": {
        "id": "5ypv2jMOxAgq",
        "colab": {
          "base_uri": "https://localhost:8080/"
        },
        "outputId": "4d4a7047-d753-4fe7-f2c7-fcef302110f5"
      },
      "execution_count": 24,
      "outputs": [
        {
          "output_type": "stream",
          "name": "stdout",
          "text": [
            "Start training...\n",
            "2023-07-14 at 09:43:11 UTC\n",
            "\n",
            "Epoch 1/150\n",
            "114/114 [==============================] - 10s 15ms/step - loss: 1.7953 - accuracy: 0.1935 - val_loss: 1.6944 - val_accuracy: 0.2346\n",
            "Epoch 2/150\n",
            "114/114 [==============================] - 1s 8ms/step - loss: 1.7096 - accuracy: 0.2357 - val_loss: 1.6037 - val_accuracy: 0.2917\n",
            "Epoch 3/150\n",
            "114/114 [==============================] - 1s 8ms/step - loss: 1.6255 - accuracy: 0.3035 - val_loss: 1.5023 - val_accuracy: 0.3991\n",
            "Epoch 4/150\n",
            "114/114 [==============================] - 1s 8ms/step - loss: 1.5493 - accuracy: 0.3470 - val_loss: 1.4083 - val_accuracy: 0.4649\n",
            "Epoch 5/150\n",
            "114/114 [==============================] - 1s 8ms/step - loss: 1.5004 - accuracy: 0.3758 - val_loss: 1.3238 - val_accuracy: 0.5088\n",
            "Epoch 6/150\n",
            "114/114 [==============================] - 1s 8ms/step - loss: 1.4301 - accuracy: 0.4186 - val_loss: 1.2153 - val_accuracy: 0.5680\n",
            "Epoch 7/150\n",
            "114/114 [==============================] - 1s 8ms/step - loss: 1.3336 - accuracy: 0.4556 - val_loss: 1.1024 - val_accuracy: 0.6338\n",
            "Epoch 8/150\n",
            "114/114 [==============================] - 1s 8ms/step - loss: 1.2546 - accuracy: 0.4836 - val_loss: 0.9935 - val_accuracy: 0.6732\n",
            "Epoch 9/150\n",
            "114/114 [==============================] - 1s 8ms/step - loss: 1.1744 - accuracy: 0.5271 - val_loss: 0.9062 - val_accuracy: 0.7105\n",
            "Epoch 10/150\n",
            "114/114 [==============================] - 1s 8ms/step - loss: 1.1137 - accuracy: 0.5603 - val_loss: 0.8023 - val_accuracy: 0.7412\n",
            "Epoch 11/150\n",
            "114/114 [==============================] - 1s 8ms/step - loss: 1.0118 - accuracy: 0.6086 - val_loss: 0.7119 - val_accuracy: 0.7544\n",
            "Epoch 12/150\n",
            "114/114 [==============================] - 1s 8ms/step - loss: 0.9458 - accuracy: 0.6324 - val_loss: 0.6699 - val_accuracy: 0.7895\n",
            "Epoch 13/150\n",
            "114/114 [==============================] - 1s 9ms/step - loss: 0.8916 - accuracy: 0.6647 - val_loss: 0.6040 - val_accuracy: 0.8311\n",
            "Epoch 14/150\n",
            "114/114 [==============================] - 1s 11ms/step - loss: 0.8304 - accuracy: 0.6927 - val_loss: 0.5553 - val_accuracy: 0.8289\n",
            "Epoch 15/150\n",
            "114/114 [==============================] - 1s 11ms/step - loss: 0.7895 - accuracy: 0.7103 - val_loss: 0.4942 - val_accuracy: 0.8553\n",
            "Epoch 16/150\n",
            "114/114 [==============================] - 1s 10ms/step - loss: 0.7192 - accuracy: 0.7308 - val_loss: 0.4426 - val_accuracy: 0.8487\n",
            "Epoch 17/150\n",
            "114/114 [==============================] - 1s 8ms/step - loss: 0.6672 - accuracy: 0.7511 - val_loss: 0.3989 - val_accuracy: 0.8728\n",
            "Epoch 18/150\n",
            "114/114 [==============================] - 1s 8ms/step - loss: 0.6302 - accuracy: 0.7615 - val_loss: 0.3570 - val_accuracy: 0.8838\n",
            "Epoch 19/150\n",
            "114/114 [==============================] - 1s 8ms/step - loss: 0.5771 - accuracy: 0.7889 - val_loss: 0.3302 - val_accuracy: 0.9057\n",
            "Epoch 20/150\n",
            "114/114 [==============================] - 1s 8ms/step - loss: 0.5447 - accuracy: 0.8043 - val_loss: 0.3195 - val_accuracy: 0.8925\n",
            "Epoch 21/150\n",
            "114/114 [==============================] - 1s 8ms/step - loss: 0.5192 - accuracy: 0.8125 - val_loss: 0.2891 - val_accuracy: 0.9145\n",
            "Epoch 22/150\n",
            "114/114 [==============================] - 1s 8ms/step - loss: 0.4963 - accuracy: 0.8221 - val_loss: 0.2780 - val_accuracy: 0.9101\n",
            "Epoch 23/150\n",
            "114/114 [==============================] - 1s 8ms/step - loss: 0.4538 - accuracy: 0.8358 - val_loss: 0.2392 - val_accuracy: 0.9211\n",
            "Epoch 24/150\n",
            "114/114 [==============================] - 1s 8ms/step - loss: 0.4487 - accuracy: 0.8438 - val_loss: 0.2253 - val_accuracy: 0.9298\n",
            "Epoch 25/150\n",
            "114/114 [==============================] - 1s 8ms/step - loss: 0.4113 - accuracy: 0.8522 - val_loss: 0.2235 - val_accuracy: 0.9298\n",
            "Epoch 26/150\n",
            "114/114 [==============================] - 1s 10ms/step - loss: 0.3885 - accuracy: 0.8599 - val_loss: 0.2124 - val_accuracy: 0.9276\n",
            "Epoch 27/150\n",
            "114/114 [==============================] - 1s 9ms/step - loss: 0.3662 - accuracy: 0.8695 - val_loss: 0.1873 - val_accuracy: 0.9320\n",
            "Epoch 28/150\n",
            "114/114 [==============================] - 1s 9ms/step - loss: 0.3595 - accuracy: 0.8742 - val_loss: 0.1857 - val_accuracy: 0.9386\n",
            "Epoch 29/150\n",
            "114/114 [==============================] - 1s 8ms/step - loss: 0.3366 - accuracy: 0.8799 - val_loss: 0.1536 - val_accuracy: 0.9474\n",
            "Epoch 30/150\n",
            "114/114 [==============================] - 1s 8ms/step - loss: 0.3023 - accuracy: 0.8925 - val_loss: 0.1508 - val_accuracy: 0.9518\n",
            "Epoch 31/150\n",
            "114/114 [==============================] - 1s 8ms/step - loss: 0.2987 - accuracy: 0.8975 - val_loss: 0.1300 - val_accuracy: 0.9583\n",
            "Epoch 32/150\n",
            "114/114 [==============================] - 1s 8ms/step - loss: 0.2865 - accuracy: 0.8923 - val_loss: 0.1366 - val_accuracy: 0.9518\n",
            "Epoch 33/150\n",
            "114/114 [==============================] - 1s 8ms/step - loss: 0.2840 - accuracy: 0.9057 - val_loss: 0.1272 - val_accuracy: 0.9561\n",
            "Epoch 34/150\n",
            "114/114 [==============================] - 1s 8ms/step - loss: 0.2640 - accuracy: 0.9104 - val_loss: 0.1178 - val_accuracy: 0.9583\n",
            "Epoch 35/150\n",
            "114/114 [==============================] - 1s 8ms/step - loss: 0.2381 - accuracy: 0.9172 - val_loss: 0.1034 - val_accuracy: 0.9671\n",
            "Epoch 36/150\n",
            "114/114 [==============================] - 1s 8ms/step - loss: 0.2401 - accuracy: 0.9178 - val_loss: 0.1173 - val_accuracy: 0.9561\n",
            "Epoch 37/150\n",
            "114/114 [==============================] - 1s 8ms/step - loss: 0.2410 - accuracy: 0.9178 - val_loss: 0.1077 - val_accuracy: 0.9627\n",
            "Epoch 38/150\n",
            "114/114 [==============================] - 1s 8ms/step - loss: 0.2417 - accuracy: 0.9221 - val_loss: 0.0946 - val_accuracy: 0.9627\n",
            "Epoch 39/150\n",
            "114/114 [==============================] - 1s 9ms/step - loss: 0.2275 - accuracy: 0.9169 - val_loss: 0.0870 - val_accuracy: 0.9715\n",
            "Epoch 40/150\n",
            "114/114 [==============================] - 1s 9ms/step - loss: 0.2189 - accuracy: 0.9254 - val_loss: 0.0925 - val_accuracy: 0.9671\n",
            "Epoch 41/150\n",
            "114/114 [==============================] - 1s 9ms/step - loss: 0.1968 - accuracy: 0.9320 - val_loss: 0.0831 - val_accuracy: 0.9649\n",
            "Epoch 42/150\n",
            "114/114 [==============================] - 1s 8ms/step - loss: 0.2050 - accuracy: 0.9271 - val_loss: 0.0952 - val_accuracy: 0.9715\n",
            "Epoch 43/150\n",
            "114/114 [==============================] - 1s 8ms/step - loss: 0.2006 - accuracy: 0.9254 - val_loss: 0.0815 - val_accuracy: 0.9715\n",
            "Epoch 44/150\n",
            "114/114 [==============================] - 1s 8ms/step - loss: 0.1782 - accuracy: 0.9391 - val_loss: 0.0780 - val_accuracy: 0.9715\n",
            "Epoch 45/150\n",
            "114/114 [==============================] - 1s 8ms/step - loss: 0.2000 - accuracy: 0.9345 - val_loss: 0.0762 - val_accuracy: 0.9781\n",
            "Epoch 46/150\n",
            "114/114 [==============================] - 1s 8ms/step - loss: 0.1738 - accuracy: 0.9424 - val_loss: 0.0740 - val_accuracy: 0.9693\n",
            "Epoch 47/150\n",
            "114/114 [==============================] - 1s 8ms/step - loss: 0.1614 - accuracy: 0.9424 - val_loss: 0.0560 - val_accuracy: 0.9825\n",
            "Epoch 48/150\n",
            "114/114 [==============================] - 1s 8ms/step - loss: 0.1704 - accuracy: 0.9391 - val_loss: 0.0718 - val_accuracy: 0.9781\n",
            "Epoch 49/150\n",
            "114/114 [==============================] - 1s 8ms/step - loss: 0.1624 - accuracy: 0.9416 - val_loss: 0.0596 - val_accuracy: 0.9803\n",
            "Epoch 50/150\n",
            "114/114 [==============================] - 1s 8ms/step - loss: 0.1435 - accuracy: 0.9529 - val_loss: 0.0583 - val_accuracy: 0.9803\n",
            "Epoch 51/150\n",
            "114/114 [==============================] - 1s 8ms/step - loss: 0.1532 - accuracy: 0.9479 - val_loss: 0.0697 - val_accuracy: 0.9737\n",
            "Epoch 52/150\n",
            "114/114 [==============================] - 1s 9ms/step - loss: 0.1590 - accuracy: 0.9479 - val_loss: 0.0620 - val_accuracy: 0.9781\n",
            "Epoch 53/150\n",
            "114/114 [==============================] - 1s 9ms/step - loss: 0.1361 - accuracy: 0.9520 - val_loss: 0.0541 - val_accuracy: 0.9759\n",
            "Epoch 54/150\n",
            "114/114 [==============================] - 1s 9ms/step - loss: 0.1412 - accuracy: 0.9531 - val_loss: 0.0603 - val_accuracy: 0.9781\n",
            "Epoch 55/150\n",
            "114/114 [==============================] - 1s 9ms/step - loss: 0.1394 - accuracy: 0.9542 - val_loss: 0.0534 - val_accuracy: 0.9759\n",
            "Epoch 56/150\n",
            "114/114 [==============================] - 1s 8ms/step - loss: 0.1308 - accuracy: 0.9553 - val_loss: 0.0512 - val_accuracy: 0.9825\n",
            "Epoch 57/150\n",
            "114/114 [==============================] - 1s 9ms/step - loss: 0.1312 - accuracy: 0.9550 - val_loss: 0.0577 - val_accuracy: 0.9803\n",
            "Epoch 58/150\n",
            "114/114 [==============================] - 1s 8ms/step - loss: 0.1230 - accuracy: 0.9578 - val_loss: 0.0572 - val_accuracy: 0.9759\n",
            "Epoch 59/150\n",
            "114/114 [==============================] - 1s 8ms/step - loss: 0.1150 - accuracy: 0.9613 - val_loss: 0.0510 - val_accuracy: 0.9825\n",
            "Epoch 60/150\n",
            "114/114 [==============================] - 1s 8ms/step - loss: 0.1225 - accuracy: 0.9578 - val_loss: 0.0578 - val_accuracy: 0.9759\n",
            "Epoch 61/150\n",
            "114/114 [==============================] - 1s 8ms/step - loss: 0.1246 - accuracy: 0.9594 - val_loss: 0.0339 - val_accuracy: 0.9868\n",
            "Epoch 62/150\n",
            "114/114 [==============================] - 1s 8ms/step - loss: 0.0975 - accuracy: 0.9646 - val_loss: 0.0434 - val_accuracy: 0.9890\n",
            "Epoch 63/150\n",
            "114/114 [==============================] - 1s 8ms/step - loss: 0.1158 - accuracy: 0.9608 - val_loss: 0.0428 - val_accuracy: 0.9868\n",
            "Epoch 64/150\n",
            "114/114 [==============================] - 1s 8ms/step - loss: 0.1073 - accuracy: 0.9644 - val_loss: 0.0472 - val_accuracy: 0.9803\n",
            "Epoch 65/150\n",
            "114/114 [==============================] - 1s 9ms/step - loss: 0.1045 - accuracy: 0.9638 - val_loss: 0.0469 - val_accuracy: 0.9803\n",
            "Epoch 66/150\n",
            "114/114 [==============================] - 1s 9ms/step - loss: 0.0979 - accuracy: 0.9685 - val_loss: 0.0426 - val_accuracy: 0.9825\n",
            "Epoch 67/150\n",
            "114/114 [==============================] - 1s 9ms/step - loss: 0.0954 - accuracy: 0.9690 - val_loss: 0.0390 - val_accuracy: 0.9846\n",
            "Epoch 68/150\n",
            "114/114 [==============================] - 1s 9ms/step - loss: 0.1045 - accuracy: 0.9671 - val_loss: 0.0481 - val_accuracy: 0.9781\n",
            "Epoch 69/150\n",
            "114/114 [==============================] - 1s 8ms/step - loss: 0.1075 - accuracy: 0.9644 - val_loss: 0.0292 - val_accuracy: 0.9890\n",
            "Epoch 70/150\n",
            "114/114 [==============================] - 1s 8ms/step - loss: 0.0848 - accuracy: 0.9737 - val_loss: 0.0352 - val_accuracy: 0.9868\n",
            "Epoch 71/150\n",
            "114/114 [==============================] - 1s 8ms/step - loss: 0.1116 - accuracy: 0.9633 - val_loss: 0.0346 - val_accuracy: 0.9825\n",
            "Epoch 72/150\n",
            "114/114 [==============================] - 1s 8ms/step - loss: 0.0921 - accuracy: 0.9712 - val_loss: 0.0277 - val_accuracy: 0.9890\n",
            "Epoch 73/150\n",
            "114/114 [==============================] - 1s 8ms/step - loss: 0.0854 - accuracy: 0.9720 - val_loss: 0.0278 - val_accuracy: 0.9890\n",
            "Epoch 74/150\n",
            "114/114 [==============================] - 1s 8ms/step - loss: 0.0743 - accuracy: 0.9729 - val_loss: 0.0338 - val_accuracy: 0.9868\n",
            "Epoch 75/150\n",
            "114/114 [==============================] - 1s 8ms/step - loss: 0.0981 - accuracy: 0.9652 - val_loss: 0.0375 - val_accuracy: 0.9868\n",
            "Epoch 76/150\n",
            "114/114 [==============================] - 1s 8ms/step - loss: 0.0702 - accuracy: 0.9740 - val_loss: 0.0364 - val_accuracy: 0.9803\n",
            "Epoch 77/150\n",
            "114/114 [==============================] - 1s 8ms/step - loss: 0.0912 - accuracy: 0.9698 - val_loss: 0.0358 - val_accuracy: 0.9868\n",
            "Epoch 78/150\n",
            "114/114 [==============================] - 1s 8ms/step - loss: 0.0913 - accuracy: 0.9715 - val_loss: 0.0374 - val_accuracy: 0.9890\n",
            "Epoch 79/150\n",
            "114/114 [==============================] - 1s 9ms/step - loss: 0.0794 - accuracy: 0.9740 - val_loss: 0.0391 - val_accuracy: 0.9803\n",
            "Epoch 80/150\n",
            "114/114 [==============================] - 1s 9ms/step - loss: 0.0671 - accuracy: 0.9797 - val_loss: 0.0317 - val_accuracy: 0.9846\n",
            "Epoch 81/150\n",
            "114/114 [==============================] - 1s 9ms/step - loss: 0.0781 - accuracy: 0.9751 - val_loss: 0.0315 - val_accuracy: 0.9868\n",
            "Epoch 82/150\n",
            "114/114 [==============================] - 1s 8ms/step - loss: 0.0723 - accuracy: 0.9767 - val_loss: 0.0274 - val_accuracy: 0.9868\n",
            "Epoch 83/150\n",
            "114/114 [==============================] - 1s 8ms/step - loss: 0.0748 - accuracy: 0.9756 - val_loss: 0.0315 - val_accuracy: 0.9868\n",
            "Epoch 84/150\n",
            "114/114 [==============================] - 1s 8ms/step - loss: 0.0692 - accuracy: 0.9770 - val_loss: 0.0327 - val_accuracy: 0.9846\n",
            "Epoch 85/150\n",
            "114/114 [==============================] - 1s 8ms/step - loss: 0.0703 - accuracy: 0.9778 - val_loss: 0.0268 - val_accuracy: 0.9868\n",
            "Epoch 86/150\n",
            "114/114 [==============================] - 1s 8ms/step - loss: 0.0738 - accuracy: 0.9748 - val_loss: 0.0306 - val_accuracy: 0.9868\n",
            "Epoch 87/150\n",
            "114/114 [==============================] - 1s 8ms/step - loss: 0.0661 - accuracy: 0.9797 - val_loss: 0.0255 - val_accuracy: 0.9890\n",
            "Epoch 88/150\n",
            "114/114 [==============================] - 1s 8ms/step - loss: 0.0713 - accuracy: 0.9764 - val_loss: 0.0302 - val_accuracy: 0.9890\n",
            "Epoch 89/150\n",
            "114/114 [==============================] - 1s 8ms/step - loss: 0.0645 - accuracy: 0.9814 - val_loss: 0.0339 - val_accuracy: 0.9846\n",
            "Epoch 90/150\n",
            "114/114 [==============================] - 1s 8ms/step - loss: 0.0697 - accuracy: 0.9800 - val_loss: 0.0305 - val_accuracy: 0.9890\n",
            "Epoch 91/150\n",
            "114/114 [==============================] - 1s 8ms/step - loss: 0.0595 - accuracy: 0.9816 - val_loss: 0.0294 - val_accuracy: 0.9846\n",
            "Epoch 92/150\n",
            "114/114 [==============================] - 1s 9ms/step - loss: 0.0570 - accuracy: 0.9794 - val_loss: 0.0256 - val_accuracy: 0.9912\n",
            "Epoch 93/150\n",
            "114/114 [==============================] - 1s 10ms/step - loss: 0.0672 - accuracy: 0.9781 - val_loss: 0.0274 - val_accuracy: 0.9868\n",
            "Epoch 94/150\n",
            "114/114 [==============================] - 1s 9ms/step - loss: 0.0653 - accuracy: 0.9792 - val_loss: 0.0301 - val_accuracy: 0.9846\n",
            "Epoch 95/150\n",
            "114/114 [==============================] - 1s 8ms/step - loss: 0.0637 - accuracy: 0.9783 - val_loss: 0.0348 - val_accuracy: 0.9868\n",
            "Epoch 96/150\n",
            "114/114 [==============================] - 1s 9ms/step - loss: 0.0641 - accuracy: 0.9819 - val_loss: 0.0320 - val_accuracy: 0.9846\n",
            "Epoch 97/150\n",
            "114/114 [==============================] - 1s 8ms/step - loss: 0.0617 - accuracy: 0.9797 - val_loss: 0.0293 - val_accuracy: 0.9868\n",
            "Epoch 98/150\n",
            "114/114 [==============================] - 1s 8ms/step - loss: 0.0634 - accuracy: 0.9770 - val_loss: 0.0221 - val_accuracy: 0.9912\n",
            "Epoch 99/150\n",
            "114/114 [==============================] - 1s 8ms/step - loss: 0.0525 - accuracy: 0.9805 - val_loss: 0.0284 - val_accuracy: 0.9846\n",
            "Epoch 100/150\n",
            "114/114 [==============================] - 1s 8ms/step - loss: 0.0528 - accuracy: 0.9844 - val_loss: 0.0280 - val_accuracy: 0.9912\n",
            "Epoch 101/150\n",
            "114/114 [==============================] - 1s 8ms/step - loss: 0.0668 - accuracy: 0.9792 - val_loss: 0.0301 - val_accuracy: 0.9912\n",
            "Epoch 102/150\n",
            "114/114 [==============================] - 1s 8ms/step - loss: 0.0553 - accuracy: 0.9816 - val_loss: 0.0271 - val_accuracy: 0.9912\n",
            "Epoch 103/150\n",
            "114/114 [==============================] - 1s 8ms/step - loss: 0.0546 - accuracy: 0.9822 - val_loss: 0.0270 - val_accuracy: 0.9890\n",
            "Epoch 104/150\n",
            "114/114 [==============================] - 1s 8ms/step - loss: 0.0486 - accuracy: 0.9827 - val_loss: 0.0250 - val_accuracy: 0.9890\n",
            "Epoch 105/150\n",
            "114/114 [==============================] - 1s 9ms/step - loss: 0.0538 - accuracy: 0.9794 - val_loss: 0.0232 - val_accuracy: 0.9890\n",
            "Epoch 106/150\n",
            "114/114 [==============================] - 1s 9ms/step - loss: 0.0522 - accuracy: 0.9830 - val_loss: 0.0243 - val_accuracy: 0.9912\n",
            "Epoch 107/150\n",
            "114/114 [==============================] - 1s 10ms/step - loss: 0.0518 - accuracy: 0.9866 - val_loss: 0.0333 - val_accuracy: 0.9912\n",
            "Epoch 108/150\n",
            "114/114 [==============================] - 1s 8ms/step - loss: 0.0656 - accuracy: 0.9805 - val_loss: 0.0274 - val_accuracy: 0.9890\n",
            "Epoch 109/150\n",
            "114/114 [==============================] - 1s 8ms/step - loss: 0.0554 - accuracy: 0.9822 - val_loss: 0.0355 - val_accuracy: 0.9890\n",
            "Epoch 110/150\n",
            "114/114 [==============================] - 1s 8ms/step - loss: 0.0511 - accuracy: 0.9852 - val_loss: 0.0333 - val_accuracy: 0.9846\n",
            "Epoch 111/150\n",
            "114/114 [==============================] - 1s 8ms/step - loss: 0.0585 - accuracy: 0.9819 - val_loss: 0.0245 - val_accuracy: 0.9890\n",
            "Epoch 112/150\n",
            "114/114 [==============================] - 1s 8ms/step - loss: 0.0613 - accuracy: 0.9803 - val_loss: 0.0381 - val_accuracy: 0.9868\n",
            "Epoch 113/150\n",
            "114/114 [==============================] - 1s 8ms/step - loss: 0.0578 - accuracy: 0.9822 - val_loss: 0.0188 - val_accuracy: 0.9934\n",
            "Epoch 114/150\n",
            "114/114 [==============================] - 1s 8ms/step - loss: 0.0435 - accuracy: 0.9830 - val_loss: 0.0223 - val_accuracy: 0.9912\n",
            "Epoch 115/150\n",
            "114/114 [==============================] - 1s 8ms/step - loss: 0.0547 - accuracy: 0.9830 - val_loss: 0.0198 - val_accuracy: 0.9934\n",
            "Epoch 116/150\n",
            "114/114 [==============================] - 1s 8ms/step - loss: 0.0538 - accuracy: 0.9836 - val_loss: 0.0183 - val_accuracy: 0.9912\n",
            "Epoch 117/150\n",
            "114/114 [==============================] - 1s 8ms/step - loss: 0.0470 - accuracy: 0.9838 - val_loss: 0.0179 - val_accuracy: 0.9934\n",
            "Epoch 118/150\n",
            "114/114 [==============================] - 1s 8ms/step - loss: 0.0530 - accuracy: 0.9794 - val_loss: 0.0232 - val_accuracy: 0.9934\n",
            "Epoch 119/150\n",
            "114/114 [==============================] - 1s 9ms/step - loss: 0.0557 - accuracy: 0.9833 - val_loss: 0.0208 - val_accuracy: 0.9890\n",
            "Epoch 120/150\n",
            "114/114 [==============================] - 1s 9ms/step - loss: 0.0619 - accuracy: 0.9819 - val_loss: 0.0142 - val_accuracy: 0.9934\n",
            "Epoch 121/150\n",
            "114/114 [==============================] - 1s 9ms/step - loss: 0.0403 - accuracy: 0.9846 - val_loss: 0.0123 - val_accuracy: 0.9978\n",
            "Epoch 122/150\n",
            "114/114 [==============================] - 1s 8ms/step - loss: 0.0517 - accuracy: 0.9857 - val_loss: 0.0189 - val_accuracy: 0.9912\n",
            "Epoch 123/150\n",
            "114/114 [==============================] - 1s 8ms/step - loss: 0.0562 - accuracy: 0.9816 - val_loss: 0.0178 - val_accuracy: 0.9890\n",
            "Epoch 124/150\n",
            "114/114 [==============================] - 1s 8ms/step - loss: 0.0440 - accuracy: 0.9849 - val_loss: 0.0128 - val_accuracy: 0.9978\n",
            "Epoch 125/150\n",
            "114/114 [==============================] - 1s 8ms/step - loss: 0.0472 - accuracy: 0.9846 - val_loss: 0.0117 - val_accuracy: 0.9912\n",
            "Epoch 126/150\n",
            "114/114 [==============================] - 1s 8ms/step - loss: 0.0431 - accuracy: 0.9871 - val_loss: 0.0138 - val_accuracy: 0.9956\n",
            "Epoch 127/150\n",
            "114/114 [==============================] - 1s 8ms/step - loss: 0.0499 - accuracy: 0.9836 - val_loss: 0.0216 - val_accuracy: 0.9912\n",
            "Epoch 128/150\n",
            "114/114 [==============================] - 1s 8ms/step - loss: 0.0374 - accuracy: 0.9868 - val_loss: 0.0166 - val_accuracy: 0.9912\n",
            "Epoch 129/150\n",
            "114/114 [==============================] - 1s 8ms/step - loss: 0.0447 - accuracy: 0.9849 - val_loss: 0.0125 - val_accuracy: 0.9934\n",
            "Epoch 130/150\n",
            "114/114 [==============================] - 1s 8ms/step - loss: 0.0337 - accuracy: 0.9910 - val_loss: 0.0198 - val_accuracy: 0.9934\n",
            "Epoch 131/150\n",
            "114/114 [==============================] - 1s 9ms/step - loss: 0.0468 - accuracy: 0.9849 - val_loss: 0.0182 - val_accuracy: 0.9956\n",
            "Epoch 132/150\n",
            "114/114 [==============================] - 1s 10ms/step - loss: 0.0456 - accuracy: 0.9852 - val_loss: 0.0103 - val_accuracy: 0.9956\n",
            "Epoch 133/150\n",
            "114/114 [==============================] - 1s 10ms/step - loss: 0.0442 - accuracy: 0.9871 - val_loss: 0.0202 - val_accuracy: 0.9912\n",
            "Epoch 134/150\n",
            "114/114 [==============================] - 1s 9ms/step - loss: 0.0420 - accuracy: 0.9866 - val_loss: 0.0166 - val_accuracy: 0.9912\n",
            "Epoch 135/150\n",
            "114/114 [==============================] - 1s 8ms/step - loss: 0.0439 - accuracy: 0.9882 - val_loss: 0.0148 - val_accuracy: 0.9956\n",
            "Epoch 136/150\n",
            "114/114 [==============================] - 1s 8ms/step - loss: 0.0442 - accuracy: 0.9874 - val_loss: 0.0158 - val_accuracy: 0.9934\n",
            "Epoch 137/150\n",
            "114/114 [==============================] - 1s 8ms/step - loss: 0.0482 - accuracy: 0.9844 - val_loss: 0.0135 - val_accuracy: 0.9934\n",
            "Epoch 138/150\n",
            "114/114 [==============================] - 1s 8ms/step - loss: 0.0390 - accuracy: 0.9893 - val_loss: 0.0128 - val_accuracy: 0.9956\n",
            "Epoch 139/150\n",
            "114/114 [==============================] - 1s 8ms/step - loss: 0.0353 - accuracy: 0.9890 - val_loss: 0.0118 - val_accuracy: 0.9956\n",
            "Epoch 140/150\n",
            "114/114 [==============================] - 1s 8ms/step - loss: 0.0382 - accuracy: 0.9879 - val_loss: 0.0168 - val_accuracy: 0.9890\n",
            "Epoch 141/150\n",
            "114/114 [==============================] - 1s 8ms/step - loss: 0.0436 - accuracy: 0.9857 - val_loss: 0.0171 - val_accuracy: 0.9934\n",
            "Epoch 142/150\n",
            "114/114 [==============================] - 1s 8ms/step - loss: 0.0435 - accuracy: 0.9866 - val_loss: 0.0189 - val_accuracy: 0.9934\n",
            "Epoch 143/150\n",
            "114/114 [==============================] - 1s 8ms/step - loss: 0.0432 - accuracy: 0.9866 - val_loss: 0.0121 - val_accuracy: 0.9956\n",
            "Epoch 144/150\n",
            "114/114 [==============================] - 1s 8ms/step - loss: 0.0395 - accuracy: 0.9863 - val_loss: 0.0116 - val_accuracy: 0.9956\n",
            "Epoch 145/150\n",
            "114/114 [==============================] - 1s 9ms/step - loss: 0.0365 - accuracy: 0.9868 - val_loss: 0.0172 - val_accuracy: 0.9956\n",
            "Epoch 146/150\n",
            "114/114 [==============================] - 1s 9ms/step - loss: 0.0380 - accuracy: 0.9882 - val_loss: 0.0144 - val_accuracy: 0.9934\n",
            "Epoch 147/150\n",
            "114/114 [==============================] - 1s 9ms/step - loss: 0.0403 - accuracy: 0.9844 - val_loss: 0.0155 - val_accuracy: 0.9956\n",
            "Epoch 148/150\n",
            "114/114 [==============================] - 1s 8ms/step - loss: 0.0262 - accuracy: 0.9918 - val_loss: 0.0202 - val_accuracy: 0.9956\n",
            "Epoch 149/150\n",
            "114/114 [==============================] - 1s 8ms/step - loss: 0.0401 - accuracy: 0.9871 - val_loss: 0.0185 - val_accuracy: 0.9956\n",
            "Epoch 150/150\n",
            "114/114 [==============================] - 1s 8ms/step - loss: 0.0365 - accuracy: 0.9879 - val_loss: 0.0138 - val_accuracy: 0.9978\n",
            "\n",
            "End training...\n",
            "2023-07-14 at 09:45:45 UTC\n",
            "\n",
            "Training time:\n",
            "00:02:34.27\n"
          ]
        }
      ]
    },
    {
      "cell_type": "markdown",
      "source": [
        "<div class=\"markdown-google-sans\">\n",
        "\n",
        "## **Evaluation 🤯**\n",
        "</div>"
      ],
      "metadata": {
        "id": "IZnrzUopTDBt"
      }
    },
    {
      "cell_type": "markdown",
      "source": [
        "The stage is not done yet. Next I will evaluate model to get preformance of model after training process."
      ],
      "metadata": {
        "id": "8hE1izQY0zke"
      }
    },
    {
      "cell_type": "markdown",
      "source": [
        "<div class=\"markdown-google-sans\">\n",
        "\n",
        "### **Evaluate Model ✅**\n",
        "</div>"
      ],
      "metadata": {
        "id": "ZqsygkGWqDVf"
      }
    },
    {
      "cell_type": "markdown",
      "source": [
        "Next section, I will evaluate my model on the testing dataset. To evaluate model, I use [`evaluate`](https://keras.io/api/models/model_training_apis/#evaluate-method) method from Keras Models API."
      ],
      "metadata": {
        "id": "eL_4NOwD0-_i"
      }
    },
    {
      "cell_type": "code",
      "source": [
        "# Evaluate model\n",
        "print(\"Evaluate ...\")\n",
        "\n",
        "eval_loss, eval_accuracy = model.evaluate(\n",
        "    X_test_ex,\n",
        "    y_test,\n",
        "    batch_size = BATCH_SIZE,\n",
        "    verbose = 1,\n",
        ")\n",
        "\n",
        "# Display evaluation metrics\n",
        "print(\"Evaluation Loss:\", eval_loss)\n",
        "print(\"Evaluation Accuracy:\", eval_accuracy)"
      ],
      "metadata": {
        "id": "fUP6aUxDxTl4",
        "colab": {
          "base_uri": "https://localhost:8080/"
        },
        "outputId": "1f247e7d-db01-45ea-b885-0a65b2f471a7"
      },
      "execution_count": 25,
      "outputs": [
        {
          "output_type": "stream",
          "name": "stdout",
          "text": [
            "Evaluate ...\n",
            "15/15 [==============================] - 0s 3ms/step - loss: 0.0362 - accuracy: 0.9956\n",
            "Evaluation Loss: 0.03615869954228401\n",
            "Evaluation Accuracy: 0.9956140518188477\n"
          ]
        }
      ]
    },
    {
      "cell_type": "markdown",
      "source": [
        "<div class=\"markdown-google-sans\">\n",
        "\n",
        "### **Visualize training process ✅**\n",
        "</div>"
      ],
      "metadata": {
        "id": "Jyy9mBysqDwr"
      }
    },
    {
      "cell_type": "markdown",
      "source": [
        "Next step in this section is visualize the model evaluation. Before doing this step, must define predict data intesting dataset, some function and variable to visualize evaluation model. First I will predict the testing dataset. This process is used to calculate Confusion Metrics and Classification Report."
      ],
      "metadata": {
        "id": "TqpzUrio2ND9"
      }
    },
    {
      "cell_type": "code",
      "source": [
        "# Predict testing dataset\n",
        "y_predict = model.predict(X_test_ex)"
      ],
      "metadata": {
        "id": "6Wbcreh5xXNw",
        "colab": {
          "base_uri": "https://localhost:8080/"
        },
        "outputId": "d34349ae-f55f-43ce-b903-ed585ac0c5a1"
      },
      "execution_count": 26,
      "outputs": [
        {
          "output_type": "stream",
          "name": "stdout",
          "text": [
            "15/15 [==============================] - 0s 3ms/step\n"
          ]
        }
      ]
    },
    {
      "cell_type": "code",
      "source": [
        "# Get Y value predict\n",
        "y_test_arg = np.argmax(y_test, axis=1)\n",
        "y_predict = np.argmax(y_predict, axis=1)"
      ],
      "metadata": {
        "id": "ovFFINZ6xZEW"
      },
      "execution_count": 27,
      "outputs": []
    },
    {
      "cell_type": "markdown",
      "source": [
        "Next I will save the training history mertics every epoch in a dataframe."
      ],
      "metadata": {
        "id": "M-3-kuf32q0_"
      }
    },
    {
      "cell_type": "code",
      "source": [
        "# Save history training\n",
        "history_train = pd.DataFrame(history.history)"
      ],
      "metadata": {
        "id": "-zGJtbKDxajC"
      },
      "execution_count": 28,
      "outputs": []
    },
    {
      "cell_type": "markdown",
      "source": [
        "After get the training history, next step I will get the value of metrics evaluation in every epoch."
      ],
      "metadata": {
        "id": "1Ds7EKfx211V"
      }
    },
    {
      "cell_type": "code",
      "source": [
        "# Get loss information\n",
        "epoch_train_loss = int(history_train[history_train[\"loss\"] == history_train[\"loss\"].min()].index.values[0])\n",
        "epoch_val_loss = int(history_train[history_train[\"val_loss\"] == history_train[\"val_loss\"].min()].index.values[0])\n",
        "train_loss_min = float(\"{:0.4f}\".format(history_train[\"loss\"].min()))\n",
        "val_loss_min = float(\"{:0.4f}\".format(history_train[\"val_loss\"].min()))"
      ],
      "metadata": {
        "id": "QIpy52EJxcAx"
      },
      "execution_count": 29,
      "outputs": []
    },
    {
      "cell_type": "code",
      "source": [
        "# Get accuracy information\n",
        "epoch_train_accuracy = int(history_train[history_train[\"accuracy\"] == history_train[\"accuracy\"].max()].index.values[0])\n",
        "epoch_val_accuracy = int(history_train[history_train[\"val_accuracy\"] == history_train[\"val_accuracy\"].max()].index.values[0])\n",
        "train_accuracy_max = float(\"{:0.4f}\".format(history_train[\"accuracy\"].max()))\n",
        "val_accuracy_max = float(\"{:0.4f}\".format(history_train[\"val_accuracy\"].max()))"
      ],
      "metadata": {
        "id": "CTkhFvF4xdjS"
      },
      "execution_count": 30,
      "outputs": []
    },
    {
      "cell_type": "markdown",
      "source": [
        "Final step is visualize the training process end evaluation result."
      ],
      "metadata": {
        "id": "a7XpgTkK3Q1s"
      }
    },
    {
      "cell_type": "code",
      "source": [
        "# Display model evaluation\n",
        "fig, ax = plt.subplots(figsize=(6, 4))\n",
        "\n",
        "ax.text(0.5, 1, f\"Loss Evaluation:\\n{eval_loss}\",\n",
        "        verticalalignment=\"top\", horizontalalignment=\"center\",\n",
        "        transform=ax.transAxes,\n",
        "        color=\"black\", fontsize=25)\n",
        "\n",
        "ax.text(0.5, 0.7, f\"Accuracy Evaluation:\\n{eval_accuracy}\",\n",
        "        verticalalignment=\"top\", horizontalalignment=\"center\",\n",
        "        transform=ax.transAxes,\n",
        "        color=\"black\", fontsize=25)\n",
        "\n",
        "plt.title(label=\"Model Evaluation\", fontsize=17, pad=19)\n",
        "plt.axis(\"off\")\n",
        "\n",
        "# Save plot\n",
        "plt.savefig(MODEL_EVALUATION_PNG, dpi=300.0, transparent=True)"
      ],
      "metadata": {
        "id": "PpvDA0IpxiVO",
        "colab": {
          "base_uri": "https://localhost:8080/",
          "height": 390
        },
        "outputId": "3b9032ad-907a-427a-fafe-814454eb8f7a"
      },
      "execution_count": 31,
      "outputs": [
        {
          "output_type": "display_data",
          "data": {
            "text/plain": [
              "<Figure size 600x400 with 1 Axes>"
            ],
            "image/png": "[encoded data removed]"
          },
          "metadata": {}
        }
      ]
    },
    {
      "cell_type": "code",
      "source": [
        "# Display loss training dan validation\n",
        "fig, ax = plt.subplots(figsize=(10, 6))\n",
        "\n",
        "ax.plot(history_train.loc[:, [\"loss\", \"val_loss\"]])\n",
        "ax.legend(labels=[\"loss\", \"val_loss\"])\n",
        "\n",
        "ax.annotate(\n",
        "    f\"Min \\nTrain Loss = {train_loss_min}\\nEpoch = {epoch_train_loss}\",\n",
        "    xy=(epoch_train_loss, train_loss_min), xycoords=\"data\",\n",
        "    xytext=(-60, 120), textcoords=\"offset points\",\n",
        "    bbox=dict(boxstyle=\"round\", fc=\"0.8\"),\n",
        "    arrowprops=dict(arrowstyle=\"->\",\n",
        "                    connectionstyle=\"angle,angleA=0,angleB=90,rad=10\"))\n",
        "ax.annotate(\n",
        "    f\"Min \\nVal Loss = {val_loss_min}\\nEpoch = {epoch_val_loss}\",\n",
        "    xy=(epoch_val_loss, val_loss_min), xycoords=\"data\",\n",
        "    xytext=(-60, 80), textcoords=\"offset points\",\n",
        "    bbox=dict(boxstyle=\"round\", fc=\"0.8\"),\n",
        "    arrowprops=dict(arrowstyle=\"->\",\n",
        "                    connectionstyle=\"angle,angleA=0,angleB=90,rad=10\"))\n",
        "\n",
        "plt.title(label=\"Training and Validation Loss\", fontsize=17, pad=19)\n",
        "plt.xlabel(\"Epoch\", labelpad=14, fontsize=14)\n",
        "plt.ylabel(\"Loss\", labelpad=16, fontsize=14)\n",
        "\n",
        "print(\"Min Train Loss:\", train_loss_min)\n",
        "print(\"Min Validation Loss:\", val_loss_min)\n",
        "\n",
        "# Save plot\n",
        "plt.savefig(LOSS_EVALUATION_PNG, dpi=300.0, transparent=True)"
      ],
      "metadata": {
        "id": "W5umAGaFxj15",
        "colab": {
          "base_uri": "https://localhost:8080/",
          "height": 642
        },
        "outputId": "755b2b51-56b4-4f62-9f0b-3ab65c74f45d"
      },
      "execution_count": 32,
      "outputs": [
        {
          "output_type": "stream",
          "name": "stdout",
          "text": [
            "Min Train Loss: 0.0262\n",
            "Min Validation Loss: 0.0103\n"
          ]
        },
        {
          "output_type": "display_data",
          "data": {
            "text/plain": [
              "<Figure size 1000x600 with 1 Axes>"
            ],
            "image/png": "[encoded data removed]"
          },
          "metadata": {}
        }
      ]
    },
    {
      "cell_type": "code",
      "source": [
        "# Display accuracy training dan validation\n",
        "fig, ax = plt.subplots(figsize=(10, 6))\n",
        "\n",
        "ax.plot(history_train.loc[:, [\"accuracy\", \"val_accuracy\"]])\n",
        "ax.legend(labels=[\"accuracy\", \"val_accuracy\"])\n",
        "\n",
        "ax.annotate(\n",
        "    f\"Max \\nTrain Acc = {train_accuracy_max}\\nEpoch = {epoch_train_accuracy}\",\n",
        "    xy=(epoch_train_accuracy, train_accuracy_max), xycoords=\"data\",\n",
        "    xytext=(-60, -180), textcoords=\"offset points\",\n",
        "    bbox=dict(boxstyle=\"round\", fc=\"0.8\"),\n",
        "    arrowprops=dict(arrowstyle=\"->\",\n",
        "                    connectionstyle=\"angle,angleA=0,angleB=90,rad=10\"))\n",
        "ax.annotate(\n",
        "    f\"Max \\nVal Acc = {val_accuracy_max}\\nEpoch = {epoch_val_accuracy}\",\n",
        "    xy=(epoch_val_accuracy, val_accuracy_max), xycoords=\"data\",\n",
        "    xytext=(-60, -100), textcoords=\"offset points\",\n",
        "    bbox=dict(boxstyle=\"round\", fc=\"0.8\"),\n",
        "    arrowprops=dict(arrowstyle=\"->\",\n",
        "                    connectionstyle=\"angle,angleA=0,angleB=90,rad=10\"))\n",
        "\n",
        "plt.title(label=\"Training and Validation Accuracy\", fontsize=17, pad=19)\n",
        "plt.xlabel(\"Epoch\", labelpad=14, fontsize=14)\n",
        "plt.ylabel(\"Accuracy\", labelpad=16, fontsize=14)\n",
        "\n",
        "print(\"Max Train Accuracy:\", train_accuracy_max)\n",
        "print(\"Max Validation Accuracy:\", val_accuracy_max)\n",
        "\n",
        "# Save picture\n",
        "plt.savefig(ACCURACY_EVALUATION_PNG, dpi=300.0, transparent=True)"
      ],
      "metadata": {
        "id": "NvV1NWqVxlic",
        "colab": {
          "base_uri": "https://localhost:8080/",
          "height": 642
        },
        "outputId": "d5f05a92-1cd0-408c-acea-795eb0f0f765"
      },
      "execution_count": 33,
      "outputs": [
        {
          "output_type": "stream",
          "name": "stdout",
          "text": [
            "Max Train Accuracy: 0.9918\n",
            "Max Validation Accuracy: 0.9978\n"
          ]
        },
        {
          "output_type": "display_data",
          "data": {
            "text/plain": [
              "<Figure size 1000x600 with 1 Axes>"
            ],
            "image/png": "[encoded data removed]"
          },
          "metadata": {}
        }
      ]
    },
    {
      "cell_type": "code",
      "source": [
        "# Display confusion matrix\n",
        "skplt.metrics.plot_confusion_matrix(\n",
        "    y_predict,\n",
        "    y_test_arg,\n",
        "    figsize=(8, 8),\n",
        "    text_fontsize=14,\n",
        ")\n",
        "\n",
        "plt.title(label=\"Confusion Matrix\", fontsize=20, pad=17)\n",
        "plt.ylabel(\"Predicted Label\", labelpad=14)\n",
        "plt.xlabel(\"True Label\", labelpad=14)\n",
        "\n",
        "# Save plot\n",
        "plt.savefig(CM_EVALUATION_PNG, dpi=300.0, transparent=True)"
      ],
      "metadata": {
        "id": "BhVgCvRJxnQ0",
        "colab": {
          "base_uri": "https://localhost:8080/",
          "height": 661
        },
        "outputId": "3fbe2a48-6cd7-4f16-9d88-2e6824cf6773"
      },
      "execution_count": 34,
      "outputs": [
        {
          "output_type": "display_data",
          "data": {
            "text/plain": [
              "<Figure size 800x800 with 2 Axes>"
            ],
            "image/png": "[encoded data removed]"
          },
          "metadata": {}
        }
      ]
    },
    {
      "cell_type": "code",
      "source": [
        "# Print classification report\n",
        "print(metrics.classification_report(y_predict, y_test_arg, digits=3))"
      ],
      "metadata": {
        "id": "a4Yk7GJpxpVv",
        "colab": {
          "base_uri": "https://localhost:8080/"
        },
        "outputId": "b0e711c5-8257-4824-c3ac-99155743cc4d"
      },
      "execution_count": 35,
      "outputs": [
        {
          "output_type": "stream",
          "name": "stdout",
          "text": [
            "              precision    recall  f1-score   support\n",
            "\n",
            "           0      1.000     0.974     0.987        78\n",
            "           1      0.987     1.000     0.993        75\n",
            "           2      1.000     1.000     1.000        76\n",
            "           3      0.987     1.000     0.993        75\n",
            "           4      1.000     1.000     1.000        76\n",
            "           5      1.000     1.000     1.000        76\n",
            "\n",
            "    accuracy                          0.996       456\n",
            "   macro avg      0.996     0.996     0.996       456\n",
            "weighted avg      0.996     0.996     0.996       456\n",
            "\n"
          ]
        }
      ]
    },
    {
      "cell_type": "code",
      "source": [
        "# Display classification report\n",
        "fig, ax = plt.subplots(figsize=(10, 6))\n",
        "\n",
        "clf_report = metrics.classification_report(\n",
        "    y_predict,\n",
        "    y_test_arg,\n",
        "    output_dict=True\n",
        ")\n",
        "\n",
        "classification_report = sns.heatmap(pd.DataFrame(clf_report).iloc[:-1, :].T, ax=ax, annot=True)\n",
        "\n",
        "classification_report.set_title(\"Classification Report\", fontsize=20, pad=17)\n",
        "\n",
        "fig = classification_report.get_figure()\n",
        "\n",
        "# Save plot\n",
        "fig.savefig(CR_EVALUATION_PNG, dpi=300.0, transparent=True)"
      ],
      "metadata": {
        "id": "fsP2jWWtxq9W",
        "colab": {
          "base_uri": "https://localhost:8080/",
          "height": 568
        },
        "outputId": "de84724c-cfa5-43c4-e040-bf10953094b9"
      },
      "execution_count": 36,
      "outputs": [
        {
          "output_type": "display_data",
          "data": {
            "text/plain": [
              "<Figure size 1000x600 with 2 Axes>"
            ],
            "image/png": "[encoded data removed]"
          },
          "metadata": {}
        }
      ]
    },
    {
      "cell_type": "code",
      "source": [
        "# Define timer\n",
        "def display_timer(start, end):\n",
        "    hours, rem = divmod(end-start, 3600)\n",
        "    minutes, seconds = divmod(rem, 60)\n",
        "    return int(hours), int(minutes), seconds"
      ],
      "metadata": {
        "id": "8ae6K1n8xxkb"
      },
      "execution_count": 37,
      "outputs": []
    },
    {
      "cell_type": "code",
      "source": [
        "# Display training time\n",
        "fig, ax = plt.subplots(figsize=(6, 4))\n",
        "\n",
        "hours_train, minutes_train, seconds_train = display_timer(time_training_init, time_training_end)\n",
        "\n",
        "ax.text(0.5, 1, \"Training time:\\n{:0>2}:{:0>2}:{:05.2f}\".format(int(hours_train), int(minutes_train), seconds_train),\n",
        "        verticalalignment=\"top\", horizontalalignment=\"center\",\n",
        "        transform=ax.transAxes,\n",
        "        color=\"blue\", fontsize=25)\n",
        "\n",
        "plt.title(label=\"Training Time\", fontsize=17, pad=19)\n",
        "plt.axis(\"off\")\n",
        "\n",
        "# Save plot\n",
        "plt.savefig(TRAINING_TIME_PNG, dpi=300.0, transparent=True)"
      ],
      "metadata": {
        "id": "C0HqJLG8xzHV",
        "colab": {
          "base_uri": "https://localhost:8080/",
          "height": 390
        },
        "outputId": "a36d2a5e-02d4-462c-f8ed-ed02b451f4ab"
      },
      "execution_count": 38,
      "outputs": [
        {
          "output_type": "display_data",
          "data": {
            "text/plain": [
              "<Figure size 600x400 with 1 Axes>"
            ],
            "image/png": "[encoded data removed]"
          },
          "metadata": {}
        }
      ]
    },
    {
      "cell_type": "markdown",
      "source": [
        "<div class=\"markdown-google-sans\">\n",
        "\n",
        "### **Save Model ✅**\n",
        "</div>"
      ],
      "metadata": {
        "id": "O2FqpXo4qEFw"
      }
    },
    {
      "cell_type": "markdown",
      "source": [
        "Last, after all training process done and have a evaluation result of the model, I will save my model in my Drive folder and save training process in [tensorboard](https://tensorboard.dev/experiments/)."
      ],
      "metadata": {
        "id": "U98yzeGM4gHX"
      }
    },
    {
      "cell_type": "code",
      "source": [
        "# Save model h5\n",
        "model.save(H5_MODEL_NAME)"
      ],
      "metadata": {
        "id": "Y5wP-H3Sx5Zh"
      },
      "execution_count": 39,
      "outputs": []
    },
    {
      "cell_type": "code",
      "source": [
        "# Save model in folder\n",
        "model.save(FOLDER_MODEL_NAME)"
      ],
      "metadata": {
        "id": "QkF8-l3yx6yL"
      },
      "execution_count": 40,
      "outputs": []
    },
    {
      "cell_type": "code",
      "source": [
        "# Bundle file\n",
        "!tar -cvf {FOLDER_MODEL_NAME + \".tar.gz\"} {FOLDER_MODEL_NAME + \"/\"}"
      ],
      "metadata": {
        "id": "xvue_-ohx8U_",
        "colab": {
          "base_uri": "https://localhost:8080/"
        },
        "outputId": "74b0715e-6c66-44f6-ae06-0545cd547d1c"
      },
      "execution_count": 41,
      "outputs": [
        {
          "output_type": "stream",
          "name": "stdout",
          "text": [
            "Final_RNN_LSTM_CEFR_Fluency_Model/\n",
            "Final_RNN_LSTM_CEFR_Fluency_Model/fingerprint.pb\n",
            "Final_RNN_LSTM_CEFR_Fluency_Model/variables/\n",
            "Final_RNN_LSTM_CEFR_Fluency_Model/variables/variables.data-00000-of-00001\n",
            "Final_RNN_LSTM_CEFR_Fluency_Model/variables/variables.index\n",
            "Final_RNN_LSTM_CEFR_Fluency_Model/keras_metadata.pb\n",
            "Final_RNN_LSTM_CEFR_Fluency_Model/assets/\n",
            "Final_RNN_LSTM_CEFR_Fluency_Model/saved_model.pb\n"
          ]
        }
      ]
    },
    {
      "cell_type": "code",
      "source": [
        "# Save model to drive\n",
        "!cp -r {COLAB_BASE_PATH + FOLDER_MODEL_NAME + \".tar.gz\"} {DRIVE_TARGET_PATH}\n",
        "!cp -r {COLAB_BASE_PATH + H5_MODEL_NAME} {DRIVE_TARGET_PATH}"
      ],
      "metadata": {
        "id": "xu0InKkwx-xW"
      },
      "execution_count": 42,
      "outputs": []
    },
    {
      "cell_type": "code",
      "source": [
        "# Save training process\n",
        "!cp -r {COLAB_BASE_PATH + MODEL_SUMMARY} {DRIVE_TARGET_PATH}\n",
        "!cp -r {COLAB_BASE_PATH + MODEL_EVALUATION + PNG} {DRIVE_TARGET_PATH}\n",
        "!cp -r {COLAB_BASE_PATH + LOSS_EVALUATION + PNG} {DRIVE_TARGET_PATH}\n",
        "!cp -r {COLAB_BASE_PATH + ACCURACY_EVALUATION + PNG} {DRIVE_TARGET_PATH}\n",
        "!cp -r {COLAB_BASE_PATH + CM_EVALUATION + PNG} {DRIVE_TARGET_PATH}\n",
        "!cp -r {COLAB_BASE_PATH + CR_EVALUATION + PNG} {DRIVE_TARGET_PATH}\n",
        "!cp -r {COLAB_BASE_PATH + TRAINING_TIME + PNG} {DRIVE_TARGET_PATH}"
      ],
      "metadata": {
        "id": "Bb96sP7ux1da"
      },
      "execution_count": 43,
      "outputs": []
    },
    {
      "cell_type": "code",
      "source": [
        "# Save training to tensorboard\n",
        "!tensorboard dev upload --logdir ./{TENSORBOARD_LOG} \\\n",
        "  --name {TITLE} \\\n",
        "  --description {DESCRIPTION} \\\n",
        "  --one_shot"
      ],
      "metadata": {
        "id": "XCHEyRFLyCiT",
        "colab": {
          "base_uri": "https://localhost:8080/"
        },
        "outputId": "4267aac5-721a-4795-fb6d-ae258bf091f4"
      },
      "execution_count": 44,
      "outputs": [
        {
          "output_type": "stream",
          "name": "stdout",
          "text": [
            "2023-07-14 09:46:19.907894: W tensorflow/compiler/tf2tensorrt/utils/py_utils.cc:38] TF-TRT Warning: Could not find TensorRT\n",
            "\n",
            "***** TensorBoard Uploader *****\n",
            "\n",
            "This will upload your TensorBoard logs to https://tensorboard.dev/ from\n",
            "the following directory:\n",
            "\n",
            "./logs-training\n",
            "\n",
            "This TensorBoard will be visible to everyone. Do not upload sensitive\n",
            "data.\n",
            "\n",
            "Your use of this service is subject to Google's Terms of Service\n",
            "<https://policies.google.com/terms> and Privacy Policy\n",
            "<https://policies.google.com/privacy>, and TensorBoard.dev's Terms of Service\n",
            "<https://tensorboard.dev/policy/terms/>.\n",
            "\n",
            "This notice will not be shown again while you are logged into the uploader.\n",
            "To log out, run `tensorboard dev auth revoke`.\n",
            "\n",
            "Continue? (yes/NO) y\n",
            "\n",
            "To sign in with the TensorBoard uploader:\n",
            "\n",
            "1. On your computer or phone, visit:\n",
            "\n",
            "   https://www.google.com/device\n",
            "\n",
            "2. Sign in with your Google account, then enter:\n",
            "\n",
            "   ZPHL-BHLY\n",
            "\n",
            "\n",
            "\n",
            "New experiment created. View your TensorBoard at: https://tensorboard.dev/experiment/SV9SosR7QOuKuZn8j0R1Bg/\n",
            "\n",
            "\u001b[1m[2023-07-14T09:46:42]\u001b[0m Started scanning logdir.\n",
            "\u001b[1m[2023-07-14T09:46:47]\u001b[0m Total uploaded: 900 scalars, 1650 tensors (1.2 MB), 1 binary objects (475.4 kB)\n",
            "\u001b[1m[2023-07-14T09:46:47]\u001b[0m Done scanning logdir.\n",
            "\n",
            "\n",
            "Done. View your TensorBoard at https://tensorboard.dev/experiment/SV9SosR7QOuKuZn8j0R1Bg/\n"
          ]
        }
      ]
    },
    {
      "cell_type": "markdown",
      "source": [
        "<div class=\"markdown-google-sans\">\n",
        "\n",
        "## **Prediction 🥳**\n",
        "</div>"
      ],
      "metadata": {
        "id": "7gG_hzhITGD5"
      }
    },
    {
      "cell_type": "markdown",
      "source": [
        "Great, now the classification model is ready to use. In the final stage, I will do some examples of the prediction process. First I must load the model path and example audio."
      ],
      "metadata": {
        "id": "kmXC6mTDyv7P"
      }
    },
    {
      "cell_type": "code",
      "source": [
        "# Define variable\n",
        "n_mfcc = 30\n",
        "model_path = H5_MODEL_NAME\n",
        "\n",
        "band_2 = \"/content/drive/MyDrive/Final Project/Machine Learning/Fluency/Test audio/band2.mp3\"\n",
        "band_4 = \"/content/drive/MyDrive/Final Project/Machine Learning/Fluency/Test audio/band4.mp3\"\n",
        "band_5 = \"/content/drive/MyDrive/Final Project/Machine Learning/Fluency/Test audio/band5.mp3\"\n",
        "band_6 = \"/content/drive/MyDrive/Final Project/Machine Learning/Fluency/Test audio/band6.mp3\"\n",
        "band_8 = \"/content/drive/MyDrive/Final Project/Machine Learning/Fluency/Test audio/band8.mp3\"\n",
        "band_9 = \"/content/drive/MyDrive/Final Project/Machine Learning/Fluency/Test audio/band9.mp3\"\n",
        "ori_1 = \"/content/drive/MyDrive/Final Project/Machine Learning/Fluency/Test audio/Citeureup 2.wav\"\n",
        "ori_2 = \"/content/drive/MyDrive/Final Project/Machine Learning/Fluency/Test audio/Jalan Krapyak 30.wav\"\n",
        "no_speech = \"/content/drive/MyDrive/Final Project/Machine Learning/Fluency/Test audio/Telkom-University-4.wav\"\n",
        "\n",
        "audio_wav = ori_1"
      ],
      "metadata": {
        "id": "LBEhMud8yMPQ"
      },
      "execution_count": 45,
      "outputs": []
    },
    {
      "cell_type": "markdown",
      "source": [
        "Next, I will define feature extractor and predict function."
      ],
      "metadata": {
        "id": "fFY0FSG9zEYP"
      }
    },
    {
      "cell_type": "code",
      "source": [
        "# Define feature extraction function\n",
        "def feature_extraction_predict(file_name):\n",
        "    # Load audio\n",
        "    X , sample_rate = librosa.load(file_name)\n",
        "\n",
        "    # Transform audio array\n",
        "    if X.ndim > 1:\n",
        "        X = X[:, 0]\n",
        "    X = X.T\n",
        "\n",
        "    # Get audio data\n",
        "    mfccs = np.mean(librosa.feature.mfcc(y=X, sr=sample_rate, n_mfcc=n_mfcc).T, axis=0)\n",
        "    rmse = np.mean(librosa.feature.rms(y=X).T, axis=0)\n",
        "    spectral_flux = np.mean(librosa.onset.onset_strength(y=X, sr=sample_rate).T, axis=0)\n",
        "    zcr = np.mean(librosa.feature.zero_crossing_rate(y=X).T, axis=0)\n",
        "\n",
        "    return mfccs, rmse, spectral_flux, zcr"
      ],
      "metadata": {
        "id": "v1rr3SoZyN1v"
      },
      "execution_count": 46,
      "outputs": []
    },
    {
      "cell_type": "code",
      "source": [
        "# Function to predict\n",
        "def fluency(model_path, wav):\n",
        "    # Load model\n",
        "    model = load_model(model_path)\n",
        "\n",
        "    # Call feature extractor function\n",
        "    mfccs, rmse, spectral_flux, zcr = feature_extraction_predict(wav)\n",
        "\n",
        "    # Define variable\n",
        "    number_of_features = 3 + n_mfcc\n",
        "    audio = np.empty((0, number_of_features))\n",
        "\n",
        "    # Preprocessing data\n",
        "    extracted_features = np.hstack([mfccs, rmse, spectral_flux, zcr])\n",
        "    audio = np.vstack([audio, extracted_features])\n",
        "\n",
        "    # Expand dimension\n",
        "    audio = np.expand_dims(audio, axis=1)\n",
        "\n",
        "    # Predict\n",
        "    pred = model.predict(audio)\n",
        "    classes = np.argmax(pred, axis=1)\n",
        "\n",
        "    # CEFR to IELTS\n",
        "    if classes[0] == 0:\n",
        "        return 3\n",
        "    elif classes[0] == 1:\n",
        "        return 4\n",
        "    elif classes[0] == 2:\n",
        "        return 5\n",
        "    elif classes[0] == 3:\n",
        "        return 6.5\n",
        "    elif classes[0] == 4:\n",
        "        return 8\n",
        "    elif classes[0] == 5:\n",
        "        return 9\n",
        "    else:\n",
        "        return 0"
      ],
      "metadata": {
        "id": "EBFtq3vpyRRN"
      },
      "execution_count": 47,
      "outputs": []
    },
    {
      "cell_type": "markdown",
      "source": [
        "Now we can predict the classification of audio fluency."
      ],
      "metadata": {
        "id": "_rvCKEGg0dtQ"
      }
    },
    {
      "cell_type": "code",
      "source": [
        "# Band predict\n",
        "predict_band = fluency(model_path, ori_1)\n",
        "print(\"Fluency band is\", predict_band)"
      ],
      "metadata": {
        "id": "T8sY_F02ySvD",
        "colab": {
          "base_uri": "https://localhost:8080/"
        },
        "outputId": "252e5609-2268-41a6-e2d9-a5a563300793"
      },
      "execution_count": 48,
      "outputs": [
        {
          "output_type": "stream",
          "name": "stderr",
          "text": [
            "WARNING:tensorflow:Layer lstm_1_input will not use cuDNN kernels since it doesn't meet the criteria. It will use a generic GPU kernel as fallback when running on GPU.\n",
            "WARNING:tensorflow:Layer lstm_2 will not use cuDNN kernels since it doesn't meet the criteria. It will use a generic GPU kernel as fallback when running on GPU.\n",
            "WARNING:tensorflow:Layer lstm_3 will not use cuDNN kernels since it doesn't meet the criteria. It will use a generic GPU kernel as fallback when running on GPU.\n"
          ]
        },
        {
          "output_type": "stream",
          "name": "stdout",
          "text": [
            "1/1 [==============================] - 0s 384ms/step\n",
            "Fluency band is 9\n"
          ]
        }
      ]
    },
    {
      "cell_type": "code",
      "source": [
        "# Band predict\n",
        "predict_band = fluency(model_path, ori_2)\n",
        "print(\"Fluency band is\", predict_band)"
      ],
      "metadata": {
        "colab": {
          "base_uri": "https://localhost:8080/"
        },
        "id": "R0GVhASKxK5Q",
        "outputId": "248ce1fc-490a-48e2-f36b-751634009909"
      },
      "execution_count": 49,
      "outputs": [
        {
          "output_type": "stream",
          "name": "stderr",
          "text": [
            "WARNING:tensorflow:Layer lstm_1_input will not use cuDNN kernels since it doesn't meet the criteria. It will use a generic GPU kernel as fallback when running on GPU.\n",
            "WARNING:tensorflow:Layer lstm_2 will not use cuDNN kernels since it doesn't meet the criteria. It will use a generic GPU kernel as fallback when running on GPU.\n",
            "WARNING:tensorflow:Layer lstm_3 will not use cuDNN kernels since it doesn't meet the criteria. It will use a generic GPU kernel as fallback when running on GPU.\n"
          ]
        },
        {
          "output_type": "stream",
          "name": "stdout",
          "text": [
            "1/1 [==============================] - 0s 369ms/step\n",
            "Fluency band is 3\n"
          ]
        }
      ]
    },
    {
      "cell_type": "code",
      "source": [
        "# Band predict\n",
        "predict_band = fluency(model_path, band_2)\n",
        "print(\"Fluency band is\", predict_band)"
      ],
      "metadata": {
        "colab": {
          "base_uri": "https://localhost:8080/"
        },
        "id": "h6-fIMAkxLRa",
        "outputId": "51e1f0fb-196b-41e9-96a1-3e44fe8351ea"
      },
      "execution_count": 50,
      "outputs": [
        {
          "output_type": "stream",
          "name": "stderr",
          "text": [
            "WARNING:tensorflow:Layer lstm_1_input will not use cuDNN kernels since it doesn't meet the criteria. It will use a generic GPU kernel as fallback when running on GPU.\n",
            "WARNING:tensorflow:Layer lstm_2 will not use cuDNN kernels since it doesn't meet the criteria. It will use a generic GPU kernel as fallback when running on GPU.\n",
            "WARNING:tensorflow:Layer lstm_3 will not use cuDNN kernels since it doesn't meet the criteria. It will use a generic GPU kernel as fallback when running on GPU.\n"
          ]
        },
        {
          "output_type": "stream",
          "name": "stdout",
          "text": [
            "1/1 [==============================] - 0s 403ms/step\n",
            "Fluency band is 3\n"
          ]
        }
      ]
    },
    {
      "cell_type": "code",
      "source": [
        "# Band predict\n",
        "predict_band = fluency(model_path, band_4)\n",
        "print(\"Fluency band is\", predict_band)"
      ],
      "metadata": {
        "colab": {
          "base_uri": "https://localhost:8080/"
        },
        "id": "VCeG5T6gxLjg",
        "outputId": "77e666fa-5141-4514-ab75-43a0a8deee0c"
      },
      "execution_count": 51,
      "outputs": [
        {
          "output_type": "stream",
          "name": "stderr",
          "text": [
            "WARNING:tensorflow:Layer lstm_1_input will not use cuDNN kernels since it doesn't meet the criteria. It will use a generic GPU kernel as fallback when running on GPU.\n",
            "WARNING:tensorflow:Layer lstm_2 will not use cuDNN kernels since it doesn't meet the criteria. It will use a generic GPU kernel as fallback when running on GPU.\n",
            "WARNING:tensorflow:Layer lstm_3 will not use cuDNN kernels since it doesn't meet the criteria. It will use a generic GPU kernel as fallback when running on GPU.\n",
            "WARNING:tensorflow:5 out of the last 19 calls to <function Model.make_predict_function.<locals>.predict_function at 0x7bff8639ee60> triggered tf.function retracing. Tracing is expensive and the excessive number of tracings could be due to (1) creating @tf.function repeatedly in a loop, (2) passing tensors with different shapes, (3) passing Python objects instead of tensors. For (1), please define your @tf.function outside of the loop. For (2), @tf.function has reduce_retracing=True option that can avoid unnecessary retracing. For (3), please refer to https://www.tensorflow.org/guide/function#controlling_retracing and https://www.tensorflow.org/api_docs/python/tf/function for  more details.\n"
          ]
        },
        {
          "output_type": "stream",
          "name": "stdout",
          "text": [
            "1/1 [==============================] - 0s 412ms/step\n",
            "Fluency band is 4\n"
          ]
        }
      ]
    },
    {
      "cell_type": "code",
      "source": [
        "# Band predict\n",
        "predict_band = fluency(model_path, band_5)\n",
        "print(\"Fluency band is\", predict_band)"
      ],
      "metadata": {
        "colab": {
          "base_uri": "https://localhost:8080/"
        },
        "id": "5lcAVeKYxL7W",
        "outputId": "2d744956-e9c1-4158-898c-352a529f073d"
      },
      "execution_count": 52,
      "outputs": [
        {
          "output_type": "stream",
          "name": "stderr",
          "text": [
            "WARNING:tensorflow:Layer lstm_1_input will not use cuDNN kernels since it doesn't meet the criteria. It will use a generic GPU kernel as fallback when running on GPU.\n",
            "WARNING:tensorflow:Layer lstm_2 will not use cuDNN kernels since it doesn't meet the criteria. It will use a generic GPU kernel as fallback when running on GPU.\n",
            "WARNING:tensorflow:Layer lstm_3 will not use cuDNN kernels since it doesn't meet the criteria. It will use a generic GPU kernel as fallback when running on GPU.\n",
            "WARNING:tensorflow:6 out of the last 20 calls to <function Model.make_predict_function.<locals>.predict_function at 0x7bff86567490> triggered tf.function retracing. Tracing is expensive and the excessive number of tracings could be due to (1) creating @tf.function repeatedly in a loop, (2) passing tensors with different shapes, (3) passing Python objects instead of tensors. For (1), please define your @tf.function outside of the loop. For (2), @tf.function has reduce_retracing=True option that can avoid unnecessary retracing. For (3), please refer to https://www.tensorflow.org/guide/function#controlling_retracing and https://www.tensorflow.org/api_docs/python/tf/function for  more details.\n"
          ]
        },
        {
          "output_type": "stream",
          "name": "stdout",
          "text": [
            "1/1 [==============================] - 0s 378ms/step\n",
            "Fluency band is 5\n"
          ]
        }
      ]
    },
    {
      "cell_type": "code",
      "source": [
        "# Band predict\n",
        "predict_band = fluency(model_path, band_6)\n",
        "print(\"Fluency band is\", predict_band)"
      ],
      "metadata": {
        "colab": {
          "base_uri": "https://localhost:8080/"
        },
        "id": "OYz_Z2N4xMTA",
        "outputId": "5ffb6115-812b-4867-8a8e-21889422440b"
      },
      "execution_count": 53,
      "outputs": [
        {
          "output_type": "stream",
          "name": "stderr",
          "text": [
            "WARNING:tensorflow:Layer lstm_1_input will not use cuDNN kernels since it doesn't meet the criteria. It will use a generic GPU kernel as fallback when running on GPU.\n",
            "WARNING:tensorflow:Layer lstm_2 will not use cuDNN kernels since it doesn't meet the criteria. It will use a generic GPU kernel as fallback when running on GPU.\n",
            "WARNING:tensorflow:Layer lstm_3 will not use cuDNN kernels since it doesn't meet the criteria. It will use a generic GPU kernel as fallback when running on GPU.\n"
          ]
        },
        {
          "output_type": "stream",
          "name": "stdout",
          "text": [
            "1/1 [==============================] - 0s 383ms/step\n",
            "Fluency band is 6.5\n"
          ]
        }
      ]
    },
    {
      "cell_type": "code",
      "source": [
        "# Band predict\n",
        "predict_band = fluency(model_path, band_8)\n",
        "print(\"Fluency band is\", predict_band)"
      ],
      "metadata": {
        "colab": {
          "base_uri": "https://localhost:8080/"
        },
        "id": "-NMHZyOnxMlk",
        "outputId": "493f5410-9a21-4312-b64c-42e65821ee9d"
      },
      "execution_count": 54,
      "outputs": [
        {
          "output_type": "stream",
          "name": "stderr",
          "text": [
            "WARNING:tensorflow:Layer lstm_1_input will not use cuDNN kernels since it doesn't meet the criteria. It will use a generic GPU kernel as fallback when running on GPU.\n",
            "WARNING:tensorflow:Layer lstm_2 will not use cuDNN kernels since it doesn't meet the criteria. It will use a generic GPU kernel as fallback when running on GPU.\n",
            "WARNING:tensorflow:Layer lstm_3 will not use cuDNN kernels since it doesn't meet the criteria. It will use a generic GPU kernel as fallback when running on GPU.\n"
          ]
        },
        {
          "output_type": "stream",
          "name": "stdout",
          "text": [
            "1/1 [==============================] - 0s 373ms/step\n",
            "Fluency band is 8\n"
          ]
        }
      ]
    },
    {
      "cell_type": "code",
      "source": [
        "# Band predict\n",
        "predict_band = fluency(model_path, band_9)\n",
        "print(\"Fluency band is\", predict_band)"
      ],
      "metadata": {
        "colab": {
          "base_uri": "https://localhost:8080/"
        },
        "id": "Q9tk2RwMxN4k",
        "outputId": "9d91ad7a-cf38-4c0b-cd85-10247d0e03b7"
      },
      "execution_count": 55,
      "outputs": [
        {
          "output_type": "stream",
          "name": "stderr",
          "text": [
            "WARNING:tensorflow:Layer lstm_1_input will not use cuDNN kernels since it doesn't meet the criteria. It will use a generic GPU kernel as fallback when running on GPU.\n",
            "WARNING:tensorflow:Layer lstm_2 will not use cuDNN kernels since it doesn't meet the criteria. It will use a generic GPU kernel as fallback when running on GPU.\n",
            "WARNING:tensorflow:Layer lstm_3 will not use cuDNN kernels since it doesn't meet the criteria. It will use a generic GPU kernel as fallback when running on GPU.\n"
          ]
        },
        {
          "output_type": "stream",
          "name": "stdout",
          "text": [
            "1/1 [==============================] - 0s 390ms/step\n",
            "Fluency band is 9\n"
          ]
        }
      ]
    },
    {
      "cell_type": "code",
      "source": [
        "# Band predict\n",
        "predict_band = fluency(model_path, no_speech)\n",
        "print(\"Fluency band is\", predict_band)"
      ],
      "metadata": {
        "colab": {
          "base_uri": "https://localhost:8080/"
        },
        "id": "l3sykv4txOor",
        "outputId": "42be441d-2371-4d6d-8c0a-917c35c7b331"
      },
      "execution_count": 56,
      "outputs": [
        {
          "output_type": "stream",
          "name": "stderr",
          "text": [
            "WARNING:tensorflow:Layer lstm_1_input will not use cuDNN kernels since it doesn't meet the criteria. It will use a generic GPU kernel as fallback when running on GPU.\n",
            "WARNING:tensorflow:Layer lstm_2 will not use cuDNN kernels since it doesn't meet the criteria. It will use a generic GPU kernel as fallback when running on GPU.\n",
            "WARNING:tensorflow:Layer lstm_3 will not use cuDNN kernels since it doesn't meet the criteria. It will use a generic GPU kernel as fallback when running on GPU.\n"
          ]
        },
        {
          "output_type": "stream",
          "name": "stdout",
          "text": [
            "1/1 [==============================] - 0s 389ms/step\n",
            "Fluency band is 3\n"
          ]
        }
      ]
    },
    {
      "cell_type": "markdown",
      "source": [
        "Yaayy, the results obtained 🥳"
      ],
      "metadata": {
        "id": "xAHMJiyY0jF2"
      }
    },
    {
      "cell_type": "markdown",
      "source": [
        "<div class=\"markdown-google-sans\">\n",
        "\n",
        "## **Reference 🫡**\n",
        "</div>"
      ],
      "metadata": {
        "id": "bLKZqXQ9TH2T"
      }
    },
    {
      "cell_type": "markdown",
      "source": [
        "<div class=\"markdown-google-sans\">\n",
        "\n",
        "### **Website ✅**\n",
        "</div>"
      ],
      "metadata": {
        "id": "dWFtXFyscFjG"
      }
    },
    {
      "cell_type": "markdown",
      "source": [
        "1.   [Keras](https://keras.io/about/)\n",
        "2.   [Pandas](https://pandas.pydata.org/)\n",
        "3.   [Numpy](https://numpy.org/doc/stable/index.html)\n",
        "4.   [Scikit-Learn](https://scikit-learn.org/stable/index.html)\n",
        "5.   [Recurrent Neural Networks (RNN) and LSTM: Overview and Uses](https://www.turing.com/kb/recurrent-neural-networks-and-lstm)"
      ],
      "metadata": {
        "id": "qCDPim_VcH6y"
      }
    },
    {
      "cell_type": "markdown",
      "source": [
        "<div class=\"markdown-google-sans\">\n",
        "\n",
        "### **Code ✅**\n",
        "</div>"
      ],
      "metadata": {
        "id": "d0HM-SjgMwNi"
      }
    },
    {
      "cell_type": "markdown",
      "source": [
        "1.   [Avalinguo-Dataset-Speaker-Fluency-Level-Classification-Paper-Replication Data](https://github.com/agrija9/Avalinguo-Dataset-Speaker-Fluency-Level-Classification-Paper-/tree/master)"
      ],
      "metadata": {
        "id": "mM1OzsWTM0iS"
      }
    }
  ]
}